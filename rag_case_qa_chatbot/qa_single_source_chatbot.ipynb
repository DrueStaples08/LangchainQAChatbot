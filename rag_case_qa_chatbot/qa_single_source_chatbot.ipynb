{
 "cells": [
  {
   "cell_type": "markdown",
   "metadata": {},
   "source": [
    "# Question Answering Chatbot Version 1 \n",
    "Goal: Create a Q&A chatbot for fact checking using Langchain, HuggingFace (or Ollama), and FAISS DB\n",
    "\n",
    "## RAG Pipeline 1\n",
    "User type: Commentators, government, businesses\n",
    "\n",
    "Data: Single Source PDF Files (e.g. Relevant scripts and recordings from past cases.) \n",
    "\n",
    "Input1: User Query\n",
    "\n",
    "Ouput1: Answers any question regarding the context of the data source\n",
    "\n",
    "\n",
    "\n",
    "Scenarios:\n",
    "- Political Debates \n",
    "- Court/Crime Cases\n",
    "- Customer Service\n",
    "\n",
    "\n",
    "Options:\n",
    "- Out of the box model\n",
    "- Fine-Tune a model\n",
    "- Retrain model\n",
    "- Create model from scratch\n",
    "\n",
    "\n",
    "\n",
    "\n",
    "### Agent-Based Approach vs Rag Chain-Based Approach\n",
    "\n",
    "Agent-Based Approach  -> use an openai agent when there are multiple tools to include as data sources e.x. wikipedia, arxiv, websites, pdfs, etc. \n",
    "```\n",
    "from langchain.agents import create_openai_tools_agent\n",
    "\n",
    "agent = create_openai_tools_agent(llm=chat_ollama , tools=tools, prompt=premade_prompt)\n",
    "\n",
    "from langchain.agents import AgentExecutor\n",
    "\n",
    "agent_executor=AgentExecutor(agent=agent, tools=tools ,verbose=True)\n",
    "\n",
    "agent_executor.invoke({\"input\": \"Hi\"})\n",
    "```\n",
    "\n",
    "and \n",
    "\n",
    "\n",
    "RAG Chain-Based Approach -> an openai agent isn't necessary when there is a single data source \n",
    "```\n",
    "from langchain.chains.combine_documents import create_stuff_documents_chain\n",
    "\n",
    "docs_chain = create_stuff_documents_chain(llm=llm_model, prompt=prompt)\n",
    "\n",
    "retriever = db.as_retriever()\n",
    "\n",
    "from langchain.chains import create_retrieval_chain\n",
    "\n",
    "retrieval_chain = create_retrieval_chain(retriever, docs_chain)\n",
    "\n",
    "retrieval_chain.invoke({\"input\": \"For language generation tasks, we find that RAG models generate more specific, diverse and factual language than a state-of-the-art parametric-only seq2seq baseline.\"})\n",
    "```\n"
   ]
  },
  {
   "cell_type": "code",
   "execution_count": 14,
   "metadata": {},
   "outputs": [],
   "source": [
    "# FAISS DB\n",
    "from langchain_community.vectorstores import FAISS\n",
    "# Retrieval Chain = LLM + Prompt\n",
    "from langchain.chains import create_retrieval_chain, RetrievalQA\n",
    "# Load PDF Documents\n",
    "from langchain_community.document_loaders import PyPDFDirectoryLoader\n",
    "# Embedding Models\n",
    "from langchain_community.embeddings import OllamaEmbeddings, HuggingFaceEmbeddings\n",
    "# Large Language Models\n",
    "from langchain_community.llms import HuggingFaceHub, HuggingFacePipeline, HuggingFaceEndpoint, Ollama\n",
    "# Prompt Template\n",
    "from langchain.chains.combine_documents import create_stuff_documents_chain\n",
    "# Text Splitter\n",
    "from langchain.text_splitter import RecursiveCharacterTextSplitter\n",
    "# Prompt Template \n",
    "from langchain.prompts import PromptTemplate"
   ]
  },
  {
   "cell_type": "code",
   "execution_count": 15,
   "metadata": {},
   "outputs": [
    {
     "data": {
      "text/plain": [
       "<langchain_community.document_loaders.pdf.PyPDFDirectoryLoader at 0x1277a0a90>"
      ]
     },
     "execution_count": 15,
     "metadata": {},
     "output_type": "execute_result"
    }
   ],
   "source": [
    "# Load in data\n",
    "\n",
    "pdf_loader = PyPDFDirectoryLoader(\"./pdf_data_source\")\n",
    "pdf_loader"
   ]
  },
  {
   "cell_type": "code",
   "execution_count": 16,
   "metadata": {},
   "outputs": [
    {
     "data": {
      "text/plain": [
       "[Document(metadata={'source': 'pdf_data_source/court_case_script_1.pdf', 'page': 0}, page_content=\"Title: People v. Johnson\\nScene: A courtroom. The judge, Hon. Patricia Reyes, presides. The defendant, Alex Johnson, is \\naccused of stealing a valuable painting from an art gallery.\\nCharacters:\\n• Judge Patricia Reyes (The Judge)\\n• Mr. Brown (Prosecutor)\\n• Ms. Lee (Defense Attorney)\\n• Alex Johnson (Defendant)\\n• Court Clerk\\nCourt Clerk: All rise. The court is now in session, the Honorable Judge Patricia Reyes \\npresiding.\\nJudge: Please be seated. We are here today in the matter of People v. Johnson, case number \\n34987. Mr. Johnson, you stand accused of theft of a painting valued at $250,000 from the Blue \\nHorizon Gallery. How do you plead?\\nDefendant: Not guilty, Your Honor.\\nJudge: Very well. Mr. Brown, you may present your opening statement.\\nMr. Brown (Prosecutor): Thank you, Your Honor. Ladies and gentlemen of the jury, the \\nevidence will show that on the evening of April 12, Mr. Johnson was seen on security footage \\nentering the Blue Horizon Gallery after hours. He left minutes later with a large item, and the \\nnext morning, the painting was missing. We intend to prove beyond a reasonable doubt that Mr. \\nJohnson took this painting for personal proﬁt.\\nJudge: Thank you, Mr. Brown. Ms. Lee, your opening statement?\\nMs. Lee (Defense Attorney): Thank you, Your Honor. Ladies and gentlemen, my client, Alex \\nJohnson, was indeed at the gallery, but he was there for legitimate reasons related to his work as \\nan art installer. The footage will show no proof of theft, and we will present evidence that \\nsomeone else, with full access to the gallery, had the motive to steal this artwork. At the end of \\nthis trial, I am conﬁdent you will ﬁnd my client not guilty.\\nJudge: Very well. We will begin with the prosecution's ﬁrst witness. Mr. Brown, call your \\nwitness.\\nMr. Brown: The prosecution calls Ofﬁcer Sarah Tran to the stand.\\n(Ofﬁcer Tran takes the stand and is sworn in by the Clerk.)\\nMr. Brown: Ofﬁcer Tran, on the night in question, were you involved in the investigation of the \\nmissing painting?\\nOfﬁcer Tran: Yes, I was. I reviewed the security footage from the gallery and identiﬁed Mr. \"),\n",
       " Document(metadata={'source': 'pdf_data_source/court_case_script_1.pdf', 'page': 1}, page_content='Johnson as the last person seen leaving the building with a large, wrapped object.\\nMs. Lee: Objection, Your Honor. The defense will demonstrate that this object was Mr. \\nJohnson’s tool kit, used for his work.\\nJudge: Sustained. Mr. Brown, please proceed with caution.\\nMr. Brown: Understood, Your Honor. Ofﬁcer Tran, could you clarify if you found any direct \\nevidence that Mr. Johnson took the painting?\\nOfﬁcer Tran: No, there was no direct evidence, only the security footage.\\nJudge: Very well. You may step down, Ofﬁcer. Ms. Lee, you may call your witness.'),\n",
       " Document(metadata={'source': 'pdf_data_source/court_case_script_2.pdf', 'page': 0}, page_content=\"Title: People v. Johnson\\nScene: The courtroom, Day 2 of trial. Defense is presenting its case.\\nCharacters:\\n• Judge Patricia Reyes (The Judge)\\n• Mr. Brown (Prosecutor)\\n• Ms. Lee (Defense Attorney)\\n• Alex Johnson (Defendant)\\n• Jordan Tate (Defense Witness, Gallery Assistant)\\n• Court Clerk\\nCourt Clerk: All rise. Court is now in session, the Honorable Judge Patricia Reyes presiding.\\nJudge: Please be seated. Ms. Lee, you may proceed with the defense's case.\\nMs. Lee (Defense Attorney): Thank you, Your Honor. The defense calls Jordan Tate to the \\nstand.\\n(Jordan Tate, a young gallery assistant, takes the stand and is sworn in by the Clerk.)\\nMs. Lee: Mr. Tate, could you please state your occupation for the court?\\nJordan Tate: I’m a gallery assistant at the Blue Horizon Gallery. I help with everything from \\norganizing exhibits to monitoring security.\\nMs. Lee: Thank you. Now, Mr. Tate, could you tell us about the night of April 12, when the \\npainting went missing?\\nJordan Tate: Sure. That night, Alex—uh, Mr. Johnson—was working on an installation at the \\ngallery. I was there late too, doing some closing duties, and I saw him leave with his toolkit after \\nhe ﬁnished.\\nMs. Lee: And did you notice anything unusual that evening?\\nJordan Tate: Yes. About an hour after Alex left, I saw someone else moving around near the \\nback storage area. It was our previous gallery manager, who’d been let go a week earlier but still \\nhad access to the building.\\nMr. Brown (Prosecutor): Objection, Your Honor. Speculation—Mr. Tate’s testimony about \\nthis other person’s access is irrelevant.\\nJudge: Overruled. I’ll allow it, but proceed carefully, Ms. Lee.\\nMs. Lee: Of course, Your Honor. Mr. Tate, did you observe anything else involving this former \\nmanager?\\nJordan Tate: Yes. When I came back in the morning, the painting was gone, and I remembered \"),\n",
       " Document(metadata={'source': 'pdf_data_source/court_case_script_2.pdf', 'page': 1}, page_content='seeing them in the storage area near the painting the night before. I told the gallery owner, but he \\ndidn’t want to report it.\\nMr. Brown: Objection. Hearsay, Your Honor.\\nJudge: Sustained. The jury will disregard Mr. Tate’s last statement. Ms. Lee, let’s keep it \\nrelevant.\\nMs. Lee: Understood. Mr. Tate, thank you. No further questions, Your Honor.\\nJudge: Very well. Mr. Brown, would you like to cross-examine?\\nMr. Brown: Yes, Your Honor. Mr. Tate, you mentioned seeing this former manager, but you \\ncan’t conﬁrm they took anything, correct?\\nJordan Tate: Correct, but it seemed odd that they were there after hours, without any legitimate \\nreason.\\nMr. Brown: Thank you. That will be all.\\nJudge: The witness may step down. Ms. Lee, do you have any other witnesses?\\nMs. Lee: No, Your Honor. The defense rests.\\nJudge: Very well. Court will adjourn for the day. We will resume tomorrow at 9 a.m. to hear \\nclosing arguments.\\nCourt Clerk: All rise.\\n(Everyone rises as Judge Reyes exits the courtroom.)'),\n",
       " Document(metadata={'source': 'pdf_data_source/court_case_script_3.pdf', 'page': 0}, page_content='Title: People v. Johnson\\nScene: The courtroom, Day 3 of trial. Both sides present their closing arguments.\\nCharacters:\\n• Judge Patricia Reyes (The Judge)\\n• Mr. Brown (Prosecutor)\\n• Ms. Lee (Defense Attorney)\\n• Alex Johnson (Defendant)\\n• Court Clerk\\n• Jury\\nCourt Clerk: All rise. Court is now in session, the Honorable Judge Patricia Reyes presiding.\\nJudge: Please be seated. Today, we will hear closing arguments in People v. Johnson. Mr. \\nBrown, you may proceed.\\nMr. Brown (Prosecutor): Thank you, Your Honor. Ladies and gentlemen of the jury, over the \\npast few days, you’ve seen clear evidence that Alex Johnson was the last person in the gallery on \\nthe night the painting disappeared. Security footage shows him carrying a large item out of the \\nbuilding, and no one else has been conﬁrmed to have accessed that area until the theft was \\ndiscovered.\\nMr. Johnson claims he only took his toolkit. Yet, he had every opportunity and the means to steal \\nthe painting. The defense has tried to distract you with irrelevant details and speculative theories \\nabout others who might have been involved, but they have provided no evidence, no proof. This \\ncase is about what happened, not about what might have happened. Based on the facts presented, \\nI ask you to return a verdict of guilty. Thank you.\\nJudge: Thank you, Mr. Brown. Ms. Lee, your closing statement?\\nMs. Lee (Defense Attorney): Thank you, Your Honor. Ladies and gentlemen of the jury, the \\nprosecution’s case rests entirely on assumptions. The only “evidence” they have is a security \\nvideo showing my client carrying a toolkit—an item consistent with his work as an art installer. \\nThere is no direct evidence that he took the painting.\\nIn fact, you heard from Mr. Tate, a reliable witness, who saw another individual, the former \\ngallery manager, on the premises that night—a person with both access and, we believe, motive \\nto take that painting. The gallery owner chose not to pursue this lead, but that doesn’t mean it \\nisn’t real.\\nMy client is innocent, and he deserves the beneﬁt of the doubt. I urge you to weigh the facts \\ncarefully. Thank you.\\nJudge: Thank you, Ms. Lee. Ladies and gentlemen of the jury, you have heard the evidence and \\nthe arguments from both sides. It is now your duty to deliberate and come to a verdict based on '),\n",
       " Document(metadata={'source': 'pdf_data_source/court_case_script_3.pdf', 'page': 1}, page_content='what has been presented. Court is adjourned until the jury reaches a decision.\\nCourt Clerk: All rise.\\n(The judge exits, and the jury prepares to begin deliberations.)')]"
      ]
     },
     "execution_count": 16,
     "metadata": {},
     "output_type": "execute_result"
    }
   ],
   "source": [
    "docs = pdf_loader.load()\n",
    "docs"
   ]
  },
  {
   "cell_type": "code",
   "execution_count": 17,
   "metadata": {},
   "outputs": [
    {
     "data": {
      "text/plain": [
       "<langchain_text_splitters.character.RecursiveCharacterTextSplitter at 0x145bb3cd0>"
      ]
     },
     "execution_count": 17,
     "metadata": {},
     "output_type": "execute_result"
    }
   ],
   "source": [
    "# Split Text\n",
    "\n",
    "text_splitter = RecursiveCharacterTextSplitter(chunk_size=100, chunk_overlap=20)\n",
    "text_splitter"
   ]
  },
  {
   "cell_type": "code",
   "execution_count": 18,
   "metadata": {},
   "outputs": [
    {
     "data": {
      "text/plain": [
       "[Document(metadata={'source': 'pdf_data_source/court_case_script_1.pdf', 'page': 0}, page_content='Title: People v. Johnson'),\n",
       " Document(metadata={'source': 'pdf_data_source/court_case_script_1.pdf', 'page': 0}, page_content='Scene: A courtroom. The judge, Hon. Patricia Reyes, presides. The defendant, Alex Johnson, is'),\n",
       " Document(metadata={'source': 'pdf_data_source/court_case_script_1.pdf', 'page': 0}, page_content='accused of stealing a valuable painting from an art gallery.\\nCharacters:'),\n",
       " Document(metadata={'source': 'pdf_data_source/court_case_script_1.pdf', 'page': 0}, page_content='Characters:\\n• Judge Patricia Reyes (The Judge)\\n• Mr. Brown (Prosecutor)'),\n",
       " Document(metadata={'source': 'pdf_data_source/court_case_script_1.pdf', 'page': 0}, page_content='• Ms. Lee (Defense Attorney)\\n• Alex Johnson (Defendant)\\n• Court Clerk'),\n",
       " Document(metadata={'source': 'pdf_data_source/court_case_script_1.pdf', 'page': 0}, page_content='Court Clerk: All rise. The court is now in session, the Honorable Judge Patricia Reyes \\npresiding.'),\n",
       " Document(metadata={'source': 'pdf_data_source/court_case_script_1.pdf', 'page': 0}, page_content='Judge: Please be seated. We are here today in the matter of People v. Johnson, case number'),\n",
       " Document(metadata={'source': 'pdf_data_source/court_case_script_1.pdf', 'page': 0}, page_content='34987. Mr. Johnson, you stand accused of theft of a painting valued at $250,000 from the Blue'),\n",
       " Document(metadata={'source': 'pdf_data_source/court_case_script_1.pdf', 'page': 0}, page_content='Horizon Gallery. How do you plead?\\nDefendant: Not guilty, Your Honor.'),\n",
       " Document(metadata={'source': 'pdf_data_source/court_case_script_1.pdf', 'page': 0}, page_content='Judge: Very well. Mr. Brown, you may present your opening statement.'),\n",
       " Document(metadata={'source': 'pdf_data_source/court_case_script_1.pdf', 'page': 0}, page_content='Mr. Brown (Prosecutor): Thank you, Your Honor. Ladies and gentlemen of the jury, the'),\n",
       " Document(metadata={'source': 'pdf_data_source/court_case_script_1.pdf', 'page': 0}, page_content='evidence will show that on the evening of April 12, Mr. Johnson was seen on security footage'),\n",
       " Document(metadata={'source': 'pdf_data_source/court_case_script_1.pdf', 'page': 0}, page_content='entering the Blue Horizon Gallery after hours. He left minutes later with a large item, and the'),\n",
       " Document(metadata={'source': 'pdf_data_source/court_case_script_1.pdf', 'page': 0}, page_content='next morning, the painting was missing. We intend to prove beyond a reasonable doubt that Mr.'),\n",
       " Document(metadata={'source': 'pdf_data_source/court_case_script_1.pdf', 'page': 0}, page_content='Johnson took this painting for personal proﬁt.'),\n",
       " Document(metadata={'source': 'pdf_data_source/court_case_script_1.pdf', 'page': 0}, page_content='Judge: Thank you, Mr. Brown. Ms. Lee, your opening statement?'),\n",
       " Document(metadata={'source': 'pdf_data_source/court_case_script_1.pdf', 'page': 0}, page_content='Ms. Lee (Defense Attorney): Thank you, Your Honor. Ladies and gentlemen, my client, Alex'),\n",
       " Document(metadata={'source': 'pdf_data_source/court_case_script_1.pdf', 'page': 0}, page_content='Johnson, was indeed at the gallery, but he was there for legitimate reasons related to his work as'),\n",
       " Document(metadata={'source': 'pdf_data_source/court_case_script_1.pdf', 'page': 0}, page_content='an art installer. The footage will show no proof of theft, and we will present evidence that'),\n",
       " Document(metadata={'source': 'pdf_data_source/court_case_script_1.pdf', 'page': 0}, page_content='someone else, with full access to the gallery, had the motive to steal this artwork. At the end of'),\n",
       " Document(metadata={'source': 'pdf_data_source/court_case_script_1.pdf', 'page': 0}, page_content='this trial, I am conﬁdent you will ﬁnd my client not guilty.'),\n",
       " Document(metadata={'source': 'pdf_data_source/court_case_script_1.pdf', 'page': 0}, page_content=\"Judge: Very well. We will begin with the prosecution's ﬁrst witness. Mr. Brown, call your \\nwitness.\"),\n",
       " Document(metadata={'source': 'pdf_data_source/court_case_script_1.pdf', 'page': 0}, page_content='witness.\\nMr. Brown: The prosecution calls Ofﬁcer Sarah Tran to the stand.'),\n",
       " Document(metadata={'source': 'pdf_data_source/court_case_script_1.pdf', 'page': 0}, page_content='(Ofﬁcer Tran takes the stand and is sworn in by the Clerk.)'),\n",
       " Document(metadata={'source': 'pdf_data_source/court_case_script_1.pdf', 'page': 0}, page_content='Mr. Brown: Ofﬁcer Tran, on the night in question, were you involved in the investigation of the'),\n",
       " Document(metadata={'source': 'pdf_data_source/court_case_script_1.pdf', 'page': 0}, page_content='missing painting?'),\n",
       " Document(metadata={'source': 'pdf_data_source/court_case_script_1.pdf', 'page': 0}, page_content='Ofﬁcer Tran: Yes, I was. I reviewed the security footage from the gallery and identiﬁed Mr.'),\n",
       " Document(metadata={'source': 'pdf_data_source/court_case_script_1.pdf', 'page': 1}, page_content='Johnson as the last person seen leaving the building with a large, wrapped object.'),\n",
       " Document(metadata={'source': 'pdf_data_source/court_case_script_1.pdf', 'page': 1}, page_content='Ms. Lee: Objection, Your Honor. The defense will demonstrate that this object was Mr.'),\n",
       " Document(metadata={'source': 'pdf_data_source/court_case_script_1.pdf', 'page': 1}, page_content='Johnson’s tool kit, used for his work.\\nJudge: Sustained. Mr. Brown, please proceed with caution.'),\n",
       " Document(metadata={'source': 'pdf_data_source/court_case_script_1.pdf', 'page': 1}, page_content='Mr. Brown: Understood, Your Honor. Ofﬁcer Tran, could you clarify if you found any direct'),\n",
       " Document(metadata={'source': 'pdf_data_source/court_case_script_1.pdf', 'page': 1}, page_content='evidence that Mr. Johnson took the painting?'),\n",
       " Document(metadata={'source': 'pdf_data_source/court_case_script_1.pdf', 'page': 1}, page_content='Ofﬁcer Tran: No, there was no direct evidence, only the security footage.'),\n",
       " Document(metadata={'source': 'pdf_data_source/court_case_script_1.pdf', 'page': 1}, page_content='Judge: Very well. You may step down, Ofﬁcer. Ms. Lee, you may call your witness.'),\n",
       " Document(metadata={'source': 'pdf_data_source/court_case_script_2.pdf', 'page': 0}, page_content='Title: People v. Johnson\\nScene: The courtroom, Day 2 of trial. Defense is presenting its case.'),\n",
       " Document(metadata={'source': 'pdf_data_source/court_case_script_2.pdf', 'page': 0}, page_content='Characters:\\n• Judge Patricia Reyes (The Judge)\\n• Mr. Brown (Prosecutor)'),\n",
       " Document(metadata={'source': 'pdf_data_source/court_case_script_2.pdf', 'page': 0}, page_content='• Ms. Lee (Defense Attorney)\\n• Alex Johnson (Defendant)'),\n",
       " Document(metadata={'source': 'pdf_data_source/court_case_script_2.pdf', 'page': 0}, page_content='• Jordan Tate (Defense Witness, Gallery Assistant)\\n• Court Clerk'),\n",
       " Document(metadata={'source': 'pdf_data_source/court_case_script_2.pdf', 'page': 0}, page_content='Court Clerk: All rise. Court is now in session, the Honorable Judge Patricia Reyes presiding.'),\n",
       " Document(metadata={'source': 'pdf_data_source/court_case_script_2.pdf', 'page': 0}, page_content=\"Judge: Please be seated. Ms. Lee, you may proceed with the defense's case.\"),\n",
       " Document(metadata={'source': 'pdf_data_source/court_case_script_2.pdf', 'page': 0}, page_content='Ms. Lee (Defense Attorney): Thank you, Your Honor. The defense calls Jordan Tate to the \\nstand.'),\n",
       " Document(metadata={'source': 'pdf_data_source/court_case_script_2.pdf', 'page': 0}, page_content='stand.\\n(Jordan Tate, a young gallery assistant, takes the stand and is sworn in by the Clerk.)'),\n",
       " Document(metadata={'source': 'pdf_data_source/court_case_script_2.pdf', 'page': 0}, page_content='Ms. Lee: Mr. Tate, could you please state your occupation for the court?'),\n",
       " Document(metadata={'source': 'pdf_data_source/court_case_script_2.pdf', 'page': 0}, page_content='Jordan Tate: I’m a gallery assistant at the Blue Horizon Gallery. I help with everything from'),\n",
       " Document(metadata={'source': 'pdf_data_source/court_case_script_2.pdf', 'page': 0}, page_content='organizing exhibits to monitoring security.'),\n",
       " Document(metadata={'source': 'pdf_data_source/court_case_script_2.pdf', 'page': 0}, page_content='Ms. Lee: Thank you. Now, Mr. Tate, could you tell us about the night of April 12, when the'),\n",
       " Document(metadata={'source': 'pdf_data_source/court_case_script_2.pdf', 'page': 0}, page_content='painting went missing?'),\n",
       " Document(metadata={'source': 'pdf_data_source/court_case_script_2.pdf', 'page': 0}, page_content='Jordan Tate: Sure. That night, Alex—uh, Mr. Johnson—was working on an installation at the'),\n",
       " Document(metadata={'source': 'pdf_data_source/court_case_script_2.pdf', 'page': 0}, page_content='gallery. I was there late too, doing some closing duties, and I saw him leave with his toolkit'),\n",
       " Document(metadata={'source': 'pdf_data_source/court_case_script_2.pdf', 'page': 0}, page_content='with his toolkit after'),\n",
       " Document(metadata={'source': 'pdf_data_source/court_case_script_2.pdf', 'page': 0}, page_content='he ﬁnished.\\nMs. Lee: And did you notice anything unusual that evening?'),\n",
       " Document(metadata={'source': 'pdf_data_source/court_case_script_2.pdf', 'page': 0}, page_content='Jordan Tate: Yes. About an hour after Alex left, I saw someone else moving around near the'),\n",
       " Document(metadata={'source': 'pdf_data_source/court_case_script_2.pdf', 'page': 0}, page_content='back storage area. It was our previous gallery manager, who’d been let go a week earlier but still'),\n",
       " Document(metadata={'source': 'pdf_data_source/court_case_script_2.pdf', 'page': 0}, page_content='had access to the building.'),\n",
       " Document(metadata={'source': 'pdf_data_source/court_case_script_2.pdf', 'page': 0}, page_content='Mr. Brown (Prosecutor): Objection, Your Honor. Speculation—Mr. Tate’s testimony about'),\n",
       " Document(metadata={'source': 'pdf_data_source/court_case_script_2.pdf', 'page': 0}, page_content='this other person’s access is irrelevant.'),\n",
       " Document(metadata={'source': 'pdf_data_source/court_case_script_2.pdf', 'page': 0}, page_content='Judge: Overruled. I’ll allow it, but proceed carefully, Ms. Lee.'),\n",
       " Document(metadata={'source': 'pdf_data_source/court_case_script_2.pdf', 'page': 0}, page_content='Ms. Lee: Of course, Your Honor. Mr. Tate, did you observe anything else involving this former'),\n",
       " Document(metadata={'source': 'pdf_data_source/court_case_script_2.pdf', 'page': 0}, page_content='manager?'),\n",
       " Document(metadata={'source': 'pdf_data_source/court_case_script_2.pdf', 'page': 0}, page_content='Jordan Tate: Yes. When I came back in the morning, the painting was gone, and I remembered'),\n",
       " Document(metadata={'source': 'pdf_data_source/court_case_script_2.pdf', 'page': 1}, page_content='seeing them in the storage area near the painting the night before. I told the gallery owner, but he'),\n",
       " Document(metadata={'source': 'pdf_data_source/court_case_script_2.pdf', 'page': 1}, page_content='owner, but he'),\n",
       " Document(metadata={'source': 'pdf_data_source/court_case_script_2.pdf', 'page': 1}, page_content='didn’t want to report it.\\nMr. Brown: Objection. Hearsay, Your Honor.'),\n",
       " Document(metadata={'source': 'pdf_data_source/court_case_script_2.pdf', 'page': 1}, page_content='Judge: Sustained. The jury will disregard Mr. Tate’s last statement. Ms. Lee, let’s keep it'),\n",
       " Document(metadata={'source': 'pdf_data_source/court_case_script_2.pdf', 'page': 1}, page_content='relevant.\\nMs. Lee: Understood. Mr. Tate, thank you. No further questions, Your Honor.'),\n",
       " Document(metadata={'source': 'pdf_data_source/court_case_script_2.pdf', 'page': 1}, page_content='Judge: Very well. Mr. Brown, would you like to cross-examine?'),\n",
       " Document(metadata={'source': 'pdf_data_source/court_case_script_2.pdf', 'page': 1}, page_content='Mr. Brown: Yes, Your Honor. Mr. Tate, you mentioned seeing this former manager, but you'),\n",
       " Document(metadata={'source': 'pdf_data_source/court_case_script_2.pdf', 'page': 1}, page_content='can’t conﬁrm they took anything, correct?'),\n",
       " Document(metadata={'source': 'pdf_data_source/court_case_script_2.pdf', 'page': 1}, page_content='Jordan Tate: Correct, but it seemed odd that they were there after hours, without any legitimate'),\n",
       " Document(metadata={'source': 'pdf_data_source/court_case_script_2.pdf', 'page': 1}, page_content='reason.\\nMr. Brown: Thank you. That will be all.'),\n",
       " Document(metadata={'source': 'pdf_data_source/court_case_script_2.pdf', 'page': 1}, page_content='Judge: The witness may step down. Ms. Lee, do you have any other witnesses?'),\n",
       " Document(metadata={'source': 'pdf_data_source/court_case_script_2.pdf', 'page': 1}, page_content='Ms. Lee: No, Your Honor. The defense rests.'),\n",
       " Document(metadata={'source': 'pdf_data_source/court_case_script_2.pdf', 'page': 1}, page_content='Judge: Very well. Court will adjourn for the day. We will resume tomorrow at 9 a.m. to hear'),\n",
       " Document(metadata={'source': 'pdf_data_source/court_case_script_2.pdf', 'page': 1}, page_content='closing arguments.\\nCourt Clerk: All rise.\\n(Everyone rises as Judge Reyes exits the courtroom.)'),\n",
       " Document(metadata={'source': 'pdf_data_source/court_case_script_3.pdf', 'page': 0}, page_content='Title: People v. Johnson'),\n",
       " Document(metadata={'source': 'pdf_data_source/court_case_script_3.pdf', 'page': 0}, page_content='Scene: The courtroom, Day 3 of trial. Both sides present their closing arguments.\\nCharacters:'),\n",
       " Document(metadata={'source': 'pdf_data_source/court_case_script_3.pdf', 'page': 0}, page_content='Characters:\\n• Judge Patricia Reyes (The Judge)\\n• Mr. Brown (Prosecutor)'),\n",
       " Document(metadata={'source': 'pdf_data_source/court_case_script_3.pdf', 'page': 0}, page_content='• Ms. Lee (Defense Attorney)\\n• Alex Johnson (Defendant)\\n• Court Clerk\\n• Jury'),\n",
       " Document(metadata={'source': 'pdf_data_source/court_case_script_3.pdf', 'page': 0}, page_content='Court Clerk: All rise. Court is now in session, the Honorable Judge Patricia Reyes presiding.'),\n",
       " Document(metadata={'source': 'pdf_data_source/court_case_script_3.pdf', 'page': 0}, page_content='Judge: Please be seated. Today, we will hear closing arguments in People v. Johnson. Mr.'),\n",
       " Document(metadata={'source': 'pdf_data_source/court_case_script_3.pdf', 'page': 0}, page_content='Brown, you may proceed.'),\n",
       " Document(metadata={'source': 'pdf_data_source/court_case_script_3.pdf', 'page': 0}, page_content='Mr. Brown (Prosecutor): Thank you, Your Honor. Ladies and gentlemen of the jury, over the'),\n",
       " Document(metadata={'source': 'pdf_data_source/court_case_script_3.pdf', 'page': 0}, page_content='past few days, you’ve seen clear evidence that Alex Johnson was the last person in the gallery on'),\n",
       " Document(metadata={'source': 'pdf_data_source/court_case_script_3.pdf', 'page': 0}, page_content='the night the painting disappeared. Security footage shows him carrying a large item out of the'),\n",
       " Document(metadata={'source': 'pdf_data_source/court_case_script_3.pdf', 'page': 0}, page_content='building, and no one else has been conﬁrmed to have accessed that area until the theft was'),\n",
       " Document(metadata={'source': 'pdf_data_source/court_case_script_3.pdf', 'page': 0}, page_content='discovered.'),\n",
       " Document(metadata={'source': 'pdf_data_source/court_case_script_3.pdf', 'page': 0}, page_content='Mr. Johnson claims he only took his toolkit. Yet, he had every opportunity and the means to steal'),\n",
       " Document(metadata={'source': 'pdf_data_source/court_case_script_3.pdf', 'page': 0}, page_content='the painting. The defense has tried to distract you with irrelevant details and speculative'),\n",
       " Document(metadata={'source': 'pdf_data_source/court_case_script_3.pdf', 'page': 0}, page_content='and speculative theories'),\n",
       " Document(metadata={'source': 'pdf_data_source/court_case_script_3.pdf', 'page': 0}, page_content='about others who might have been involved, but they have provided no evidence, no proof. This'),\n",
       " Document(metadata={'source': 'pdf_data_source/court_case_script_3.pdf', 'page': 0}, page_content='case is about what happened, not about what might have happened. Based on the facts presented,'),\n",
       " Document(metadata={'source': 'pdf_data_source/court_case_script_3.pdf', 'page': 0}, page_content='I ask you to return a verdict of guilty. Thank you.'),\n",
       " Document(metadata={'source': 'pdf_data_source/court_case_script_3.pdf', 'page': 0}, page_content='Judge: Thank you, Mr. Brown. Ms. Lee, your closing statement?'),\n",
       " Document(metadata={'source': 'pdf_data_source/court_case_script_3.pdf', 'page': 0}, page_content='Ms. Lee (Defense Attorney): Thank you, Your Honor. Ladies and gentlemen of the jury, the'),\n",
       " Document(metadata={'source': 'pdf_data_source/court_case_script_3.pdf', 'page': 0}, page_content='prosecution’s case rests entirely on assumptions. The only “evidence” they have is a security'),\n",
       " Document(metadata={'source': 'pdf_data_source/court_case_script_3.pdf', 'page': 0}, page_content='video showing my client carrying a toolkit—an item consistent with his work as an art installer.'),\n",
       " Document(metadata={'source': 'pdf_data_source/court_case_script_3.pdf', 'page': 0}, page_content='There is no direct evidence that he took the painting.'),\n",
       " Document(metadata={'source': 'pdf_data_source/court_case_script_3.pdf', 'page': 0}, page_content='In fact, you heard from Mr. Tate, a reliable witness, who saw another individual, the former'),\n",
       " Document(metadata={'source': 'pdf_data_source/court_case_script_3.pdf', 'page': 0}, page_content='gallery manager, on the premises that night—a person with both access and, we believe, motive'),\n",
       " Document(metadata={'source': 'pdf_data_source/court_case_script_3.pdf', 'page': 0}, page_content='to take that painting. The gallery owner chose not to pursue this lead, but that doesn’t mean it'),\n",
       " Document(metadata={'source': 'pdf_data_source/court_case_script_3.pdf', 'page': 0}, page_content='isn’t real.'),\n",
       " Document(metadata={'source': 'pdf_data_source/court_case_script_3.pdf', 'page': 0}, page_content='My client is innocent, and he deserves the beneﬁt of the doubt. I urge you to weigh the facts'),\n",
       " Document(metadata={'source': 'pdf_data_source/court_case_script_3.pdf', 'page': 0}, page_content='carefully. Thank you.'),\n",
       " Document(metadata={'source': 'pdf_data_source/court_case_script_3.pdf', 'page': 0}, page_content='Judge: Thank you, Ms. Lee. Ladies and gentlemen of the jury, you have heard the evidence and'),\n",
       " Document(metadata={'source': 'pdf_data_source/court_case_script_3.pdf', 'page': 0}, page_content='the arguments from both sides. It is now your duty to deliberate and come to a verdict based on'),\n",
       " Document(metadata={'source': 'pdf_data_source/court_case_script_3.pdf', 'page': 1}, page_content='what has been presented. Court is adjourned until the jury reaches a decision.'),\n",
       " Document(metadata={'source': 'pdf_data_source/court_case_script_3.pdf', 'page': 1}, page_content='Court Clerk: All rise.\\n(The judge exits, and the jury prepares to begin deliberations.)')]"
      ]
     },
     "execution_count": 18,
     "metadata": {},
     "output_type": "execute_result"
    }
   ],
   "source": [
    "split_docs = text_splitter.split_documents(docs)\n",
    "split_docs"
   ]
  },
  {
   "cell_type": "code",
   "execution_count": 19,
   "metadata": {},
   "outputs": [
    {
     "name": "stderr",
     "output_type": "stream",
     "text": [
      "/var/folders/5s/6n___nd5225744331b0vg7140000gn/T/ipykernel_90064/1771744676.py:2: LangChainDeprecationWarning: The class `OllamaEmbeddings` was deprecated in LangChain 0.3.1 and will be removed in 1.0.0. An updated version of the class exists in the :class:`~langchain-ollama package and should be used instead. To use it run `pip install -U :class:`~langchain-ollama` and import as `from :class:`~langchain_ollama import OllamaEmbeddings``.\n",
      "  db = FAISS.from_documents(split_docs, embedding=OllamaEmbeddings())\n"
     ]
    },
    {
     "data": {
      "text/plain": [
       "<langchain_community.vectorstores.faiss.FAISS at 0x1453bacd0>"
      ]
     },
     "execution_count": 19,
     "metadata": {},
     "output_type": "execute_result"
    }
   ],
   "source": [
    "# Initiate Vector Database\n",
    "db = FAISS.from_documents(split_docs, embedding=OllamaEmbeddings())\n",
    "db"
   ]
  },
  {
   "cell_type": "code",
   "execution_count": 20,
   "metadata": {},
   "outputs": [
    {
     "name": "stderr",
     "output_type": "stream",
     "text": [
      "/var/folders/5s/6n___nd5225744331b0vg7140000gn/T/ipykernel_90064/295217174.py:2: LangChainDeprecationWarning: The class `Ollama` was deprecated in LangChain 0.3.1 and will be removed in 1.0.0. An updated version of the class exists in the :class:`~langchain-ollama package and should be used instead. To use it run `pip install -U :class:`~langchain-ollama` and import as `from :class:`~langchain_ollama import OllamaLLM``.\n",
      "  llm = Ollama()\n"
     ]
    },
    {
     "data": {
      "text/plain": [
       "Ollama()"
      ]
     },
     "execution_count": 20,
     "metadata": {},
     "output_type": "execute_result"
    }
   ],
   "source": [
    "# Initiate LLM\n",
    "llm = Ollama()\n",
    "llm"
   ]
  },
  {
   "cell_type": "code",
   "execution_count": 80,
   "metadata": {},
   "outputs": [
    {
     "data": {
      "text/plain": [
       "PromptTemplate(input_variables=['context', 'input'], input_types={}, partial_variables={}, template=\"\\n        \\n        Based on the script content provided, answer the question below in a short, list format. Each answer should be a single, brief point with only the essential details. Avoid unnecessary context or extra description.\\n\\n        <context>:\\n        {context}\\n        </context>\\n\\n        Question:\\n        {input}\\n\\n        Response Format:\\n        - (e.g., Name or role)\\n        - (e.g., Specific action or location)\\n        - (e.g., Short description)\\n\\n        Example Usage:\\n        Question:\\n        “Where was the painting taken from?”\\n\\n        Response:\\n        - The painting was stolen from an art gallery.\\n        - The thief, Ms. Lee, took the painting for personal profit. \\n        - Judge Patricia Reyes sustained a motion to suppress Mr. Tate's last statement regarding the painting's origins.        \\n        \")"
      ]
     },
     "execution_count": 80,
     "metadata": {},
     "output_type": "execute_result"
    }
   ],
   "source": [
    "# Initiate Prompt\n",
    "\n",
    "# prompt = PromptTemplate.from_template(\n",
    "#                         \"\"\"\n",
    "#                         Goal: Give a clear and simple answer and explanation.\n",
    "#                         Each response should answer the question intially along with bullet points that list out the reasonings.\n",
    "#                         Each output response should be 20 words or less.\n",
    "#                         <context>{context}</context>\n",
    "#                         User type: Commentators, government officials\n",
    "#                         Example:\n",
    "#                             Input: {input}\n",
    "#                             Output: Answers any question regarding the current case.            - \n",
    "#                         \"\"\")\n",
    "\n",
    "\n",
    "\n",
    "\n",
    "\n",
    "# prompt = PromptTemplate.from_template(\n",
    "#     \"\"\"Given the following script content, please answer the question in a concise, list format. Each point in the list should contain a short, clear response to help make the answer easy to read. Focus on specific details from the script content to directly address the question.\n",
    "\n",
    "#         <context>:\n",
    "#         {context}\n",
    "#         </context>\n",
    "\n",
    "#         Question:\n",
    "#         {input}\n",
    "\n",
    "#         Example Format for Responses:\n",
    "\n",
    "#         - [First key point]\n",
    "#         - [Second key point]\n",
    "#         - [Third key point]\n",
    "#         - [Additional points, as needed]\n",
    "#         Make sure each list item is brief but captures essential details to answer the question accurately. Separate distinct ideas into individual list items to improve readability.\n",
    "#      \"\"\")   \n",
    "\n",
    "\n",
    "\n",
    "\n",
    "        \n",
    "prompt = PromptTemplate.from_template(  \n",
    "        \"\"\"\n",
    "        \n",
    "        Based on the script content provided, answer the question below in a short, list format. Each answer should be a single, brief point with only the essential details. Avoid unnecessary context or extra description.\n",
    "\n",
    "        <context>:\n",
    "        {context}\n",
    "        </context>\n",
    "\n",
    "        Question:\n",
    "        {input}\n",
    "\n",
    "        Response Format:\n",
    "        - (e.g., Name or role)\n",
    "        - (e.g., Specific action or location)\n",
    "        - (e.g., Short description)\n",
    "\n",
    "        Example Usage:\n",
    "        Question:\n",
    "        “Where was the painting taken from?”\n",
    "\n",
    "        Response:\n",
    "        - The painting was stolen from an art gallery.\n",
    "        - The thief, Ms. Lee, took the painting for personal profit. \n",
    "        - Judge Patricia Reyes sustained a motion to suppress Mr. Tate's last statement regarding the painting's origins.        \n",
    "        \"\"\")\n",
    "\n",
    "prompt"
   ]
  },
  {
   "cell_type": "code",
   "execution_count": 81,
   "metadata": {},
   "outputs": [
    {
     "data": {
      "text/plain": [
       "RunnableBinding(bound=RunnableBinding(bound=RunnableAssign(mapper={\n",
       "  context: RunnableLambda(format_docs)\n",
       "}), kwargs={}, config={'run_name': 'format_inputs'}, config_factories=[])\n",
       "| PromptTemplate(input_variables=['context', 'input'], input_types={}, partial_variables={}, template=\"\\n        \\n        Based on the script content provided, answer the question below in a short, list format. Each answer should be a single, brief point with only the essential details. Avoid unnecessary context or extra description.\\n\\n        <context>:\\n        {context}\\n        </context>\\n\\n        Question:\\n        {input}\\n\\n        Response Format:\\n        - (e.g., Name or role)\\n        - (e.g., Specific action or location)\\n        - (e.g., Short description)\\n\\n        Example Usage:\\n        Question:\\n        “Where was the painting taken from?”\\n\\n        Response:\\n        - The painting was stolen from an art gallery.\\n        - The thief, Ms. Lee, took the painting for personal profit. \\n        - Judge Patricia Reyes sustained a motion to suppress Mr. Tate's last statement regarding the painting's origins.        \\n        \")\n",
       "| Ollama()\n",
       "| StrOutputParser(), kwargs={}, config={'run_name': 'stuff_documents_chain'}, config_factories=[])"
      ]
     },
     "execution_count": 81,
     "metadata": {},
     "output_type": "execute_result"
    }
   ],
   "source": [
    "# Establish docs chain to include split documents and embedding model\n",
    "docs_chain = create_stuff_documents_chain(llm, prompt)\n",
    "docs_chain"
   ]
  },
  {
   "cell_type": "code",
   "execution_count": 82,
   "metadata": {},
   "outputs": [
    {
     "data": {
      "text/plain": [
       "VectorStoreRetriever(tags=['FAISS', 'OllamaEmbeddings'], vectorstore=<langchain_community.vectorstores.faiss.FAISS object at 0x1377b4050>, search_kwargs={})"
      ]
     },
     "execution_count": 82,
     "metadata": {},
     "output_type": "execute_result"
    }
   ],
   "source": [
    "# Create a retreiver\n",
    "\n",
    "retriever = db.as_retriever()\n",
    "retriever"
   ]
  },
  {
   "cell_type": "code",
   "execution_count": 83,
   "metadata": {},
   "outputs": [
    {
     "data": {
      "text/plain": [
       "RunnableBinding(bound=RunnableAssign(mapper={\n",
       "  context: RunnableBinding(bound=RunnableLambda(lambda x: x['input'])\n",
       "           | VectorStoreRetriever(tags=['FAISS', 'OllamaEmbeddings'], vectorstore=<langchain_community.vectorstores.faiss.FAISS object at 0x1377b4050>, search_kwargs={}), kwargs={}, config={'run_name': 'retrieve_documents'}, config_factories=[])\n",
       "})\n",
       "| RunnableAssign(mapper={\n",
       "    answer: RunnableBinding(bound=RunnableBinding(bound=RunnableAssign(mapper={\n",
       "              context: RunnableLambda(format_docs)\n",
       "            }), kwargs={}, config={'run_name': 'format_inputs'}, config_factories=[])\n",
       "            | PromptTemplate(input_variables=['context', 'input'], input_types={}, partial_variables={}, template=\"\\n        \\n        Based on the script content provided, answer the question below in a short, list format. Each answer should be a single, brief point with only the essential details. Avoid unnecessary context or extra description.\\n\\n        <context>:\\n        {context}\\n        </context>\\n\\n        Question:\\n        {input}\\n\\n        Response Format:\\n        - (e.g., Name or role)\\n        - (e.g., Specific action or location)\\n        - (e.g., Short description)\\n\\n        Example Usage:\\n        Question:\\n        “Where was the painting taken from?”\\n\\n        Response:\\n        - The painting was stolen from an art gallery.\\n        - The thief, Ms. Lee, took the painting for personal profit. \\n        - Judge Patricia Reyes sustained a motion to suppress Mr. Tate's last statement regarding the painting's origins.        \\n        \")\n",
       "            | Ollama()\n",
       "            | StrOutputParser(), kwargs={}, config={'run_name': 'stuff_documents_chain'}, config_factories=[])\n",
       "  }), kwargs={}, config={'run_name': 'retrieval_chain'}, config_factories=[])"
      ]
     },
     "execution_count": 83,
     "metadata": {},
     "output_type": "execute_result"
    }
   ],
   "source": [
    "# # Create retrieval chain \n",
    "retrieval_chain = create_retrieval_chain(retriever, docs_chain)\n",
    "retrieval_chain"
   ]
  },
  {
   "cell_type": "code",
   "execution_count": 91,
   "metadata": {},
   "outputs": [
    {
     "data": {
      "text/plain": [
       "{'input': 'Who was all involved in the incident?',\n",
       " 'context': [Document(metadata={'source': 'pdf_data_source/court_case_script_2.pdf', 'page': 1}, page_content='Reyes exits the courtroom.)'),\n",
       "  Document(metadata={'source': 'pdf_data_source/court_case_script_2.pdf', 'page': 0}, page_content='toolkit after he ﬁnished.Ms. Lee: And did you notice anything unusual that evening?Jordan Tate:'),\n",
       "  Document(metadata={'source': 'pdf_data_source/court_case_script_2.pdf', 'page': 1}, page_content='Sustained. The jury will disregard Mr. Tate’s last statement. Ms. Lee, let’s keep it relevant.Ms.'),\n",
       "  Document(metadata={'source': 'pdf_data_source/court_case_script_1.pdf', 'page': 1}, page_content='Johnson as the last person seen leaving the building with a large, wrapped object.Ms. Lee:')],\n",
       " 'answer': '\\n• Jordan Tate\\n• Ms. Johnson\\n• Judge Patricia Reyes'}"
      ]
     },
     "execution_count": 91,
     "metadata": {},
     "output_type": "execute_result"
    }
   ],
   "source": [
    "# Invoke the regtrieval chain to output a response\n",
    "response = retrieval_chain.invoke({\"input\": \"Who was all involved in the incident?\"})\n",
    "response"
   ]
  },
  {
   "cell_type": "code",
   "execution_count": 92,
   "metadata": {},
   "outputs": [
    {
     "data": {
      "text/plain": [
       "'\\n• Jordan Tate\\n• Ms. Johnson\\n• Judge Patricia Reyes'"
      ]
     },
     "execution_count": 92,
     "metadata": {},
     "output_type": "execute_result"
    }
   ],
   "source": [
    "response[\"answer\"]"
   ]
  },
  {
   "cell_type": "code",
   "execution_count": 94,
   "metadata": {},
   "outputs": [
    {
     "data": {
      "text/plain": [
       "['', '• Jordan Tate', '• Ms. Johnson', '• Judge Patricia Reyes']"
      ]
     },
     "execution_count": 94,
     "metadata": {},
     "output_type": "execute_result"
    }
   ],
   "source": [
    "response[\"answer\"].split(\"\\n\")"
   ]
  },
  {
   "cell_type": "code",
   "execution_count": 95,
   "metadata": {},
   "outputs": [
    {
     "data": {
      "text/plain": [
       "{'input': 'What was the date, time, and location of the crime?',\n",
       " 'context': [Document(metadata={'source': 'pdf_data_source/court_case_script_2.pdf', 'page': 1}, page_content='Reyes exits the courtroom.)'),\n",
       "  Document(metadata={'source': 'pdf_data_source/court_case_script_1.pdf', 'page': 1}, page_content='Johnson as the last person seen leaving the building with a large, wrapped object.Ms. Lee:'),\n",
       "  Document(metadata={'source': 'pdf_data_source/court_case_script_1.pdf', 'page': 1}, page_content='footage.Judge: Very well. You may step down, Ofﬁcer. Ms. Lee, you may call your witness.'),\n",
       "  Document(metadata={'source': 'pdf_data_source/court_case_script_2.pdf', 'page': 0}, page_content='toolkit after he ﬁnished.Ms. Lee: And did you notice anything unusual that evening?Jordan Tate:')],\n",
       " 'answer': '\\nQuestion: What was the date, time, and location of the crime?\\n\\nResponse:\\n\\n* Date: Not specified in the provided script content.\\n* Time: Not specified in the provided script content.\\n* Location: The crime occurred inside the courtroom where the trial was being held.'}"
      ]
     },
     "execution_count": 95,
     "metadata": {},
     "output_type": "execute_result"
    }
   ],
   "source": [
    "response = retrieval_chain.invoke({\"input\": \"What was the date, time, and location of the crime?\"})\n",
    "response"
   ]
  },
  {
   "cell_type": "code",
   "execution_count": 96,
   "metadata": {},
   "outputs": [
    {
     "data": {
      "text/plain": [
       "['',\n",
       " 'Question: What was the date, time, and location of the crime?',\n",
       " '',\n",
       " 'Response:',\n",
       " '',\n",
       " '* Date: Not specified in the provided script content.',\n",
       " '* Time: Not specified in the provided script content.',\n",
       " '* Location: The crime occurred inside the courtroom where the trial was being held.']"
      ]
     },
     "execution_count": 96,
     "metadata": {},
     "output_type": "execute_result"
    }
   ],
   "source": [
    "response[\"answer\"].split(\"\\n\")"
   ]
  },
  {
   "cell_type": "code",
   "execution_count": 97,
   "metadata": {},
   "outputs": [
    {
     "data": {
      "text/plain": [
       "{'input': 'Where was the painting stolen?',\n",
       " 'context': [Document(metadata={'source': 'pdf_data_source/court_case_script_2.pdf', 'page': 1}, page_content='Reyes exits the courtroom.)'),\n",
       "  Document(metadata={'source': 'pdf_data_source/court_case_script_2.pdf', 'page': 1}, page_content='Sustained. The jury will disregard Mr. Tate’s last statement. Ms. Lee, let’s keep it relevant.Ms.'),\n",
       "  Document(metadata={'source': 'pdf_data_source/court_case_script_1.pdf', 'page': 0}, page_content='this painting for personal proﬁt.Judge: Thank you, Mr. Brown. Ms. Lee, your opening statement?Ms.'),\n",
       "  Document(metadata={'source': 'pdf_data_source/court_case_script_1.pdf', 'page': 0}, page_content='from an art gallery.Characters:•Judge Patricia Reyes (The Judge)•Mr. Brown (Prosecutor)•Ms. Lee')],\n",
       " 'answer': \"\\nAnswer:\\n\\n* Where was the painting stolen from? - Art gallery.\\n* What action did Ms. Lee take with the painting? - Took it for personal profit.\\n* Who sustained a motion to suppress a statement regarding the painting's origins? - Judge Patricia Reyes.\"}"
      ]
     },
     "execution_count": 97,
     "metadata": {},
     "output_type": "execute_result"
    }
   ],
   "source": [
    "response = retrieval_chain.invoke({\"input\": \"Where was the painting stolen?\"})\n",
    "response"
   ]
  },
  {
   "cell_type": "code",
   "execution_count": 98,
   "metadata": {},
   "outputs": [
    {
     "data": {
      "text/plain": [
       "['',\n",
       " 'Answer:',\n",
       " '',\n",
       " '* Where was the painting stolen from? - Art gallery.',\n",
       " '* What action did Ms. Lee take with the painting? - Took it for personal profit.',\n",
       " \"* Who sustained a motion to suppress a statement regarding the painting's origins? - Judge Patricia Reyes.\"]"
      ]
     },
     "execution_count": 98,
     "metadata": {},
     "output_type": "execute_result"
    }
   ],
   "source": [
    "response[\"answer\"].split(\"\\n\")"
   ]
  },
  {
   "cell_type": "code",
   "execution_count": 101,
   "metadata": {},
   "outputs": [
    {
     "data": {
      "text/plain": [
       "['',\n",
       " 'Answer:',\n",
       " '',\n",
       " '* Name or role: Jordan Tate',\n",
       " '* Specific action or location: exited the courtroom',\n",
       " \"* Short description: Reyes sustained a motion to suppress Mr. Tate's last statement regarding the stolen art piece.\"]"
      ]
     },
     "execution_count": 101,
     "metadata": {},
     "output_type": "execute_result"
    }
   ],
   "source": [
    "response = retrieval_chain.invoke({\"input\": \"Where there any witnesses involved in the crime of the stolen art piece?\"})\n",
    "response[\"answer\"].split(\"\\n\")"
   ]
  },
  {
   "cell_type": "markdown",
   "metadata": {},
   "source": [
    "Ensure a better result by fine-tuning the prompt and text splitter. Then try other LLMs and embedding models."
   ]
  },
  {
   "cell_type": "code",
   "execution_count": null,
   "metadata": {},
   "outputs": [],
   "source": []
  }
 ],
 "metadata": {
  "kernelspec": {
   "display_name": "langchain_tutorial_8",
   "language": "python",
   "name": "python3"
  },
  "language_info": {
   "codemirror_mode": {
    "name": "ipython",
    "version": 3
   },
   "file_extension": ".py",
   "mimetype": "text/x-python",
   "name": "python",
   "nbconvert_exporter": "python",
   "pygments_lexer": "ipython3",
   "version": "3.11.9"
  },
  "orig_nbformat": 4
 },
 "nbformat": 4,
 "nbformat_minor": 2
}
