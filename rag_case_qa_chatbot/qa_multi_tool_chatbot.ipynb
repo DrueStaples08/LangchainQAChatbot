{
 "cells": [
  {
   "cell_type": "markdown",
   "metadata": {},
   "source": [
    "# Question Answering Chatbot Version 2 \n",
    "Goal: Create a Q&A chatbot for fact checking using Langchain and its Agent Executor, OpenAI's agent tool, HuggingFace (or Ollama), and FAISS DB\n",
    "\n",
    "## RAG Pipeline 1\n",
    "User type: Commentators, government, businesses\n",
    "\n",
    "Data: Single Source PDF Files (e.g. Relevant scripts and recordings from past cases.) \n",
    "\n",
    "Input1: User Query\n",
    "\n",
    "Ouput1: Answers any question regarding the context of the data source\n",
    "\n",
    "\n",
    "\n",
    "Scenarios:\n",
    "- Political Debates \n",
    "- Court/Crime Cases\n",
    "- Customer Service\n",
    "\n",
    "\n",
    "Options:\n",
    "- Out of the box model\n",
    "- Fine-Tune a model\n",
    "- Retrain model\n",
    "- Create model from scratch\n",
    "\n",
    "\n",
    "\n",
    "\n",
    "### Agent-Based Approach vs Rag Chain-Based Approach\n",
    "\n",
    "Agent-Based Approach  -> use an openai agent when there are multiple tools to include as data sources e.x. wikipedia, arxiv, websites, pdfs, etc. \n",
    "```\n",
    "from langchain.agents import create_openai_tools_agent\n",
    "\n",
    "agent = create_openai_tools_agent(llm=chat_ollama , tools=tools, prompt=premade_prompt)\n",
    "\n",
    "from langchain.agents import AgentExecutor\n",
    "\n",
    "agent_executor=AgentExecutor(agent=agent, tools=tools ,verbose=True)\n",
    "\n",
    "agent_executor.invoke({\"input\": \"Hi\"})\n",
    "```\n",
    "\n",
    "and \n",
    "\n",
    "\n",
    "RAG Chain-Based Approach -> an openai agent isn't necessary when there is a single data source \n",
    "```\n",
    "from langchain.chains.combine_documents import create_stuff_documents_chain\n",
    "\n",
    "docs_chain = create_stuff_documents_chain(llm=llm_model, prompt=prompt)\n",
    "\n",
    "retriever = db.as_retriever()\n",
    "\n",
    "from langchain.chains import create_retrieval_chain\n",
    "\n",
    "retrieval_chain = create_retrieval_chain(retriever, docs_chain)\n",
    "\n",
    "retrieval_chain.invoke({\"input\": \"For language generation tasks, we find that RAG models generate more specific, diverse and factual language than a state-of-the-art parametric-only seq2seq baseline.\"})\n",
    "```\n"
   ]
  },
  {
   "cell_type": "code",
   "execution_count": 1,
   "metadata": {},
   "outputs": [
    {
     "name": "stderr",
     "output_type": "stream",
     "text": [
      "USER_AGENT environment variable not set, consider setting it to identify your requests.\n"
     ]
    }
   ],
   "source": [
    "# Data Source - Web\n",
    "# Data Source - PDF\n",
    "from langchain.document_loaders import PyPDFDirectoryLoader, WebBaseLoader, WikipediaLoader\n",
    "# Searches the Wikipedia API\n",
    "from langchain_community.tools.wikipedia.tool import WikipediaQueryRun\n",
    "# Wrapper for Wikipedia API to help conduct relevant searches\n",
    "from langchain_community.utilities.wikipedia import WikipediaAPIWrapper\n",
    "# Database \n",
    "from langchain_community.vectorstores import FAISS\n",
    "# Text Splitter\n",
    "from langchain.text_splitter import RecursiveCharacterTextSplitter\n",
    "# LLM \n",
    "from langchain_community.llms import Ollama\n",
    "# Chat Models\n",
    "from langchain_community.chat_models import ChatOllama\n",
    "# Hub for additional models and/or prompts\n",
    "from langchain import hub\n",
    "# Embedding Model\n",
    "from langchain_community.embeddings import OllamaEmbeddings\n",
    "# Prompt\n",
    "from langchain.prompts import PromptTemplate, ChatMessagePromptTemplate\n",
    "# Documents Chain\n",
    "from langchain.chains.combine_documents import create_stuff_documents_chain\n",
    "# Retriever Chain\n",
    "from langchain.chains import create_retrieval_chain\n",
    "# Retrieval Tool\n",
    "from langchain.tools.retriever import create_retriever_tool\n",
    "# OpenAI agent tools\n",
    "# Agent Exector\n",
    "from langchain.agents import AgentExecutor, create_openai_functions_agent"
   ]
  },
  {
   "cell_type": "code",
   "execution_count": 9,
   "metadata": {},
   "outputs": [],
   "source": [
    "# Wiki Data Source \n",
    "wiki_wrapper = WikipediaAPIWrapper(top_k_results=1, doc_content_chars_max=150)\n",
    "wiki_tool = WikipediaQueryRun(api_wrapper=wiki_wrapper)"
   ]
  },
  {
   "cell_type": "code",
   "execution_count": 10,
   "metadata": {},
   "outputs": [],
   "source": [
    "# # Web Base Source\n",
    "# web_loader = WebBaseLoader(web_path=\"https://lakecountyin.gov/departments/health/Health-First-Indiana/hfi-faq\")\n",
    "# web_tool = web_loader.load()\n",
    "# web_tool"
   ]
  },
  {
   "cell_type": "code",
   "execution_count": 11,
   "metadata": {},
   "outputs": [
    {
     "data": {
      "text/plain": [
       "[Document(metadata={'source': 'pdf_data_source_2/Health+First+Indiana+Presentation+071224.pdf', 'page': 0}, page_content='Health First Lake County Plan\\n2024-2025\\n'),\n",
       " Document(metadata={'source': 'pdf_data_source_2/Health+First+Indiana+Presentation+071224.pdf', 'page': 1}, page_content='Lake County Scorecard\\n'),\n",
       " Document(metadata={'source': 'pdf_data_source_2/Health+First+Indiana+Presentation+071224.pdf', 'page': 2}, page_content='• KPI: Number of counties that through a tobacco prevention and cessation \\ncoalition have a comprehensive program to address youth tobacco and \\naddictive nicotine prevention.\\nLCHD meets KPI\\nPLAN AND PARTNERSHIPS: \\n• LCHD partnered with the Lake County Tobacco Coalition  (Community \\nAdvocates of Northern Indiana and Franciscan Health)\\n'),\n",
       " Document(metadata={'source': 'pdf_data_source_2/Health+First+Indiana+Presentation+071224.pdf', 'page': 3}, page_content='• KPI: Number of counties with documented process to refer families to needed \\nservices including contraceptive care, WIC, home visiting, prenatal care, \\nsubstance use disorder treatment, and insurance navigation\\nCurrently LCHD meets KPI\\n• Plan & Potential Partnerships: \\n• LCHD Mobile Health Unit\\n• LCHD to Implement 2 MCH clinics (North & South Co.)\\n• The Foodbank of NWI- Infant/Maternal Pantry Pack\\n• St. John Fire Department- Health and Safety services (car safety seats, car \\nsafety inspections, cribs, and sleep sacks), safe sleep education, \\ncommunity assistance (referrals), and Food & Nutrition (WIC and local \\nfood pantries)\\n• Mental Health America NWI- Safe Sleep Education (includes pack and \\nplays and swaddles)\\n• Geminus: Head Start Prenatal Program\\n'),\n",
       " Document(metadata={'source': 'pdf_data_source_2/Health+First+Indiana+Presentation+071224.pdf', 'page': 4}, page_content='• KPI: Number of counties that through a healthy community coalition have a comprehensive, \\nevidence-based program to address obesity and obesity-related disease prevention\\nCurrently LCHD meets KPI\\n• POTENTIAL PARTNERSHIPS: \\n• Purdue Extension- Fighting Chronic Illness Through Education\\n• Purdue Extension- Nutrition Education Program\\n• Indiana University School of Medicine NW- Improving health through health \\nscreenings and referrals\\n• St. John Fire Department-Mobile Integrated health\\n'),\n",
       " Document(metadata={'source': 'pdf_data_source_2/Health+First+Indiana+Presentation+071224.pdf', 'page': 5}, page_content='• KPI: Number of counties partnering with schools, based on community need, \\nto implement wellness policies and comprehensive strategies to promote \\nstudent health\\nCurrently in process\\n• Plan & Partnerships: \\n• LCHD to hire three (3) school liaisons in 2024\\n• LCHD Mobile Health Unit\\n• St. John Fire Department (potential partnership) - Provide Education\\n• IUSM NW (potential partnership) - Presentations for children at local \\nschools and summer camps\\n'),\n",
       " Document(metadata={'source': 'pdf_data_source_2/Health+First+Indiana+Presentation+071224.pdf', 'page': 6}, page_content='• KPI: Number of counties that identified a leading cause of injury and/or harm in their community \\nand implemented a comprehensive, evidence-based program or activity prevention\\nCurrently LCHD meets KPI\\n• POTENTIAL PARTNERSHIPS: \\n• Geminus- Lake County Crisis Intervention Team\\n• St. John Fire Department- Preventing harm due to injury and substance use and facilitating \\naccess to trauma care\\n• Mental Health America NWI- Gun Safety Program\\n• Purdue Extension- A Matter of Balance (Managing Concerns About Falls)\\n'),\n",
       " Document(metadata={'source': 'pdf_data_source_2/Health+First+Indiana+Presentation+071224.pdf', 'page': 7}, page_content='• KPI: Number of counties with access to a trained case manager and risk assessor in the county and offering weekly \\nlead testing at a location in the county\\nLCHD somewhat meets KPI \\n• PLAN & PARTNERSHIPS: \\n• LCHD to hire one (1) Medical Assistant for Lead & Risk Assessment (lead & risk assessor must attend both \\ntrainings and meet state requirements)\\n'),\n",
       " Document(metadata={'source': 'pdf_data_source_2/Health+First+Indiana+Presentation+071224.pdf', 'page': 8}, page_content='• KPI: Number of local health departments providing accessible, \\nequitable clinical services, such as those related to \\ncommunicable diseases, to meet the needs of the community\\n• KPI: Number of local health departments engaging with the \\nlocal and state health delivery system to address gaps and \\nbarriers to health services and connect the population to \\nneeded health and social services that support the whole \\nperson, including preventative and mental health services\\nSomewhat meets KPI\\n• Plan & Partnerships: \\n• ASPIN insurance navigator \\n• St. John Fire Department (potential partnership) -facilitate \\naccess to healthcare services\\n• IUSM NW (potential partnership)- perform health \\nscreenings and provide referrals on health topics and \\ndisease prevention\\n• Geminus (partnership)- provide referrals to clinical care\\n'),\n",
       " Document(metadata={'source': 'pdf_data_source_2/Health+First+Indiana+Presentation+071224.pdf', 'page': 9}, page_content='• KPI: Number of counties that participate in local CFR, FIMR, and SOFR teams and provide birth \\ncertificates, stillbirth certificates, and death certificates to local fatality review teams\\n• KPI: Number of counties that identified a leading cause of fatality in their community and \\nimplanted an evidence-based or promising prevention program or activity\\nLCHD meets KPI\\n• Plans & Partnerships: \\n• St. John Fire Department (potential partnership) - Deliver equipment & resources (cribs, \\nsleep sacks, education, and firearm locks) and provide training about 988 and crisis \\nresources\\n'),\n",
       " Document(metadata={'source': 'pdf_data_source_2/Health+First+Indiana+Presentation+071224.pdf', 'page': 10}, page_content='• KPI: Number of counties with established partnerships for housing, food, security, and \\ninterpretation services to assist in case management services for patients with TB and latent TB \\ninfection in their communities\\nLCHD somewhat meets KPI\\n• Plans & Partnerships: \\n• LCHD to hire a TB Case Manager\\n• LCHD nurses were trained in phlebotomy by IDOH in June 2024\\n'),\n",
       " Document(metadata={'source': 'pdf_data_source_2/Health+First+Indiana+Presentation+071224.pdf', 'page': 11}, page_content='• KPI: Number of counties that have updated public health \\nemergency response plans\\n• KPI: Number of counties exercising current emergency response \\nplans with community partners within a biennial timeframe\\nLCHD meets KPI\\n'),\n",
       " Document(metadata={'source': 'pdf_data_source_2/Health+First+Indiana+Presentation+071224.pdf', 'page': 12}, page_content='Emergency \\nPreparedness\\nLCHD division of Emergency Preparedness- currently reviewing, researching, and incorporating lessons learned from real world \\nevents (Covid-19) into our All Hazards Plan- this includes multiple community response partners from Lake County and District \\n1 (LC EMA & 6 other health departments in District 1)\\nThe annual plan and annex review prepare LCHD to be able to respond to health-related areas during emergency and disasters.\\n• Exercising plans and personnel: \\n• LCHD Division of Emergency Preparedness participated in the Annual Indiana District 1 Medical Response Surge Exercise \\n(MRSE)\\n• Exercise included District 1 hospitals, EMS, Health Departments and EMA’s which tested jurisdictional capabilities\\n*This exercise, future exercises, as well as review and updating of plans, partnership reviews and addressing areas of \\nimprovement, all contribute to their working toward best practices and reaching KPI’s'),\n",
       " Document(metadata={'source': 'pdf_data_source_2/Health+First+Indiana+Presentation+071224.pdf', 'page': 13}, page_content='• KPI: Number of counties that can vaccinate all individuals at time of service regardless of insurance \\nstatus\\n• KPI: Number of counties with extended vaccination hours beyond routine business hours to meet the \\nneeds of the community/jurisdiction through the LHD or community partners\\nLCHD meets KPI\\n• Plans & Partnerships: \\n• LCHD to hire a PHN\\n• Indiana Immunization Coalition Partnership\\n• LCHD Mobile Clinic\\n'),\n",
       " Document(metadata={'source': 'pdf_data_source_2/Health+First+Indiana+Presentation+071224.pdf', 'page': 14}, page_content='• KPI: Number of counties that initiated a public health investigation within 24 hours for 95% of the \\nimmediately reportable conditions reported to them and within two business days for 85% of non -\\nimmediately reportable conditions reported to them\\nLCHD meets KPI\\n• Plans & Partnerships: \\n• LCHD to implement STI/HIV Clinic (testing & treatment)\\n• LCHD plans to hire clinic coordinator (RN, LPN)\\n• The Aliveness Project potential partnership \\n'),\n",
       " Document(metadata={'source': 'pdf_data_source_2/Health+First+Indiana+Presentation+071224.pdf', 'page': 15}, page_content='• KPI: Number of counties that have developed a timely and professional risk-based food \\ninspection standard operation procedure\\nLCHD meets KPI\\n• Plan:\\n• LCHD to hire two (2) food inspectors\\n• LCHD to provide pest control training to food inspectors (requested by inspectors)\\n'),\n",
       " Document(metadata={'source': 'pdf_data_source_2/Health+First+Indiana+Presentation+071224.pdf', 'page': 16}, page_content='• KPI: Number of counties implementing birth certificates to all Hoosiers irrespective of \\ntheir county of birth once the IDOH DRIVE system has appropriate functionality\\n• KPI: Number of counties able to offer Vital Records services without disruption to \\nbusiness continuity during natural disasters/emergencies\\nLCHD does not currently meet KPI\\n• Plans & Partnerships: \\n• LCHD to partner/contract to convert old/historic files to drive\\n'),\n",
       " Document(metadata={'source': 'pdf_data_source_2/Health+First+Indiana+Presentation+071224.pdf', 'page': 17}, page_content='Environmental Public Health\\n• KPI: Number of counties responding to all housing and nuisance complaints within a timeframe \\ndetermined by urgency or risk\\n• KPI: Number of counties with trained and licensed, if required, staff conducting required \\nenvironmental inspections, such as onsite sewage, vector control, public and semi -public pools, and \\nproperty-related complaints\\nLCHD meets KPI\\n• Plans & Partnerships: \\n• Digitize permits- currently seeking vendor/resource\\n'),\n",
       " Document(metadata={'source': 'pdf_data_source_2/Health+First+Indiana+Presentation+071224.pdf', 'page': 18}, page_content='• KPI: Number of counties with trained staff who can respond to tattoo, body piercing, and eyelash \\nextension complaints (target: 90%)\\nLCHD does not meet KPI\\n• Plans & Partnerships: \\n• LCHD Sanitarians attended training offered by Porter Co. in June 2024\\n• Plan to provide education to establishments on health & safety \\n')]"
      ]
     },
     "execution_count": 11,
     "metadata": {},
     "output_type": "execute_result"
    }
   ],
   "source": [
    "# PDF Image Source \n",
    "pdf_loader = PyPDFDirectoryLoader(path=\"./pdf_data_source_2/\")\n",
    "docs = pdf_loader.load()\n",
    "docs"
   ]
  },
  {
   "cell_type": "code",
   "execution_count": 12,
   "metadata": {},
   "outputs": [
    {
     "data": {
      "text/plain": [
       "[Document(metadata={'source': 'pdf_data_source_2/Health+First+Indiana+Presentation+071224.pdf', 'page': 0}, page_content='Health First Lake County Plan\\n2024-2025'),\n",
       " Document(metadata={'source': 'pdf_data_source_2/Health+First+Indiana+Presentation+071224.pdf', 'page': 1}, page_content='Lake County Scorecard'),\n",
       " Document(metadata={'source': 'pdf_data_source_2/Health+First+Indiana+Presentation+071224.pdf', 'page': 2}, page_content='• KPI: Number of counties that through a tobacco prevention and cessation \\ncoalition have a comprehensive program to address youth tobacco and \\naddictive nicotine prevention.\\nLCHD meets KPI\\nPLAN AND PARTNERSHIPS: \\n• LCHD partnered with the Lake County Tobacco Coalition  (Community \\nAdvocates of Northern Indiana and Franciscan Health)'),\n",
       " Document(metadata={'source': 'pdf_data_source_2/Health+First+Indiana+Presentation+071224.pdf', 'page': 3}, page_content='• KPI: Number of counties with documented process to refer families to needed \\nservices including contraceptive care, WIC, home visiting, prenatal care, \\nsubstance use disorder treatment, and insurance navigation\\nCurrently LCHD meets KPI\\n• Plan & Potential Partnerships: \\n• LCHD Mobile Health Unit\\n• LCHD to Implement 2 MCH clinics (North & South Co.)\\n• The Foodbank of NWI- Infant/Maternal Pantry Pack\\n• St. John Fire Department- Health and Safety services (car safety seats, car'),\n",
       " Document(metadata={'source': 'pdf_data_source_2/Health+First+Indiana+Presentation+071224.pdf', 'page': 3}, page_content='• St. John Fire Department- Health and Safety services (car safety seats, car \\nsafety inspections, cribs, and sleep sacks), safe sleep education, \\ncommunity assistance (referrals), and Food & Nutrition (WIC and local \\nfood pantries)\\n• Mental Health America NWI- Safe Sleep Education (includes pack and \\nplays and swaddles)\\n• Geminus: Head Start Prenatal Program'),\n",
       " Document(metadata={'source': 'pdf_data_source_2/Health+First+Indiana+Presentation+071224.pdf', 'page': 4}, page_content='• KPI: Number of counties that through a healthy community coalition have a comprehensive, \\nevidence-based program to address obesity and obesity-related disease prevention\\nCurrently LCHD meets KPI\\n• POTENTIAL PARTNERSHIPS: \\n• Purdue Extension- Fighting Chronic Illness Through Education\\n• Purdue Extension- Nutrition Education Program\\n• Indiana University School of Medicine NW- Improving health through health \\nscreenings and referrals\\n• St. John Fire Department-Mobile Integrated health'),\n",
       " Document(metadata={'source': 'pdf_data_source_2/Health+First+Indiana+Presentation+071224.pdf', 'page': 5}, page_content='• KPI: Number of counties partnering with schools, based on community need, \\nto implement wellness policies and comprehensive strategies to promote \\nstudent health\\nCurrently in process\\n• Plan & Partnerships: \\n• LCHD to hire three (3) school liaisons in 2024\\n• LCHD Mobile Health Unit\\n• St. John Fire Department (potential partnership) - Provide Education\\n• IUSM NW (potential partnership) - Presentations for children at local \\nschools and summer camps'),\n",
       " Document(metadata={'source': 'pdf_data_source_2/Health+First+Indiana+Presentation+071224.pdf', 'page': 6}, page_content='• KPI: Number of counties that identified a leading cause of injury and/or harm in their community \\nand implemented a comprehensive, evidence-based program or activity prevention\\nCurrently LCHD meets KPI\\n• POTENTIAL PARTNERSHIPS: \\n• Geminus- Lake County Crisis Intervention Team\\n• St. John Fire Department- Preventing harm due to injury and substance use and facilitating \\naccess to trauma care\\n• Mental Health America NWI- Gun Safety Program'),\n",
       " Document(metadata={'source': 'pdf_data_source_2/Health+First+Indiana+Presentation+071224.pdf', 'page': 6}, page_content='access to trauma care\\n• Mental Health America NWI- Gun Safety Program\\n• Purdue Extension- A Matter of Balance (Managing Concerns About Falls)'),\n",
       " Document(metadata={'source': 'pdf_data_source_2/Health+First+Indiana+Presentation+071224.pdf', 'page': 7}, page_content='• KPI: Number of counties with access to a trained case manager and risk assessor in the county and offering weekly \\nlead testing at a location in the county\\nLCHD somewhat meets KPI \\n• PLAN & PARTNERSHIPS: \\n• LCHD to hire one (1) Medical Assistant for Lead & Risk Assessment (lead & risk assessor must attend both \\ntrainings and meet state requirements)'),\n",
       " Document(metadata={'source': 'pdf_data_source_2/Health+First+Indiana+Presentation+071224.pdf', 'page': 8}, page_content='• KPI: Number of local health departments providing accessible, \\nequitable clinical services, such as those related to \\ncommunicable diseases, to meet the needs of the community\\n• KPI: Number of local health departments engaging with the \\nlocal and state health delivery system to address gaps and \\nbarriers to health services and connect the population to \\nneeded health and social services that support the whole \\nperson, including preventative and mental health services\\nSomewhat meets KPI'),\n",
       " Document(metadata={'source': 'pdf_data_source_2/Health+First+Indiana+Presentation+071224.pdf', 'page': 8}, page_content='person, including preventative and mental health services\\nSomewhat meets KPI\\n• Plan & Partnerships: \\n• ASPIN insurance navigator \\n• St. John Fire Department (potential partnership) -facilitate \\naccess to healthcare services\\n• IUSM NW (potential partnership)- perform health \\nscreenings and provide referrals on health topics and \\ndisease prevention\\n• Geminus (partnership)- provide referrals to clinical care'),\n",
       " Document(metadata={'source': 'pdf_data_source_2/Health+First+Indiana+Presentation+071224.pdf', 'page': 9}, page_content='• KPI: Number of counties that participate in local CFR, FIMR, and SOFR teams and provide birth \\ncertificates, stillbirth certificates, and death certificates to local fatality review teams\\n• KPI: Number of counties that identified a leading cause of fatality in their community and \\nimplanted an evidence-based or promising prevention program or activity\\nLCHD meets KPI\\n• Plans & Partnerships: \\n• St. John Fire Department (potential partnership) - Deliver equipment & resources (cribs,'),\n",
       " Document(metadata={'source': 'pdf_data_source_2/Health+First+Indiana+Presentation+071224.pdf', 'page': 9}, page_content='• St. John Fire Department (potential partnership) - Deliver equipment & resources (cribs, \\nsleep sacks, education, and firearm locks) and provide training about 988 and crisis \\nresources'),\n",
       " Document(metadata={'source': 'pdf_data_source_2/Health+First+Indiana+Presentation+071224.pdf', 'page': 10}, page_content='• KPI: Number of counties with established partnerships for housing, food, security, and \\ninterpretation services to assist in case management services for patients with TB and latent TB \\ninfection in their communities\\nLCHD somewhat meets KPI\\n• Plans & Partnerships: \\n• LCHD to hire a TB Case Manager\\n• LCHD nurses were trained in phlebotomy by IDOH in June 2024'),\n",
       " Document(metadata={'source': 'pdf_data_source_2/Health+First+Indiana+Presentation+071224.pdf', 'page': 11}, page_content='• KPI: Number of counties that have updated public health \\nemergency response plans\\n• KPI: Number of counties exercising current emergency response \\nplans with community partners within a biennial timeframe\\nLCHD meets KPI'),\n",
       " Document(metadata={'source': 'pdf_data_source_2/Health+First+Indiana+Presentation+071224.pdf', 'page': 12}, page_content='Emergency \\nPreparedness\\nLCHD division of Emergency Preparedness- currently reviewing, researching, and incorporating lessons learned from real world \\nevents (Covid-19) into our All Hazards Plan- this includes multiple community response partners from Lake County and District \\n1 (LC EMA & 6 other health departments in District 1)\\nThe annual plan and annex review prepare LCHD to be able to respond to health-related areas during emergency and disasters.\\n• Exercising plans and personnel:'),\n",
       " Document(metadata={'source': 'pdf_data_source_2/Health+First+Indiana+Presentation+071224.pdf', 'page': 12}, page_content='• Exercising plans and personnel: \\n• LCHD Division of Emergency Preparedness participated in the Annual Indiana District 1 Medical Response Surge Exercise \\n(MRSE)\\n• Exercise included District 1 hospitals, EMS, Health Departments and EMA’s which tested jurisdictional capabilities\\n*This exercise, future exercises, as well as review and updating of plans, partnership reviews and addressing areas of \\nimprovement, all contribute to their working toward best practices and reaching KPI’s'),\n",
       " Document(metadata={'source': 'pdf_data_source_2/Health+First+Indiana+Presentation+071224.pdf', 'page': 13}, page_content='• KPI: Number of counties that can vaccinate all individuals at time of service regardless of insurance \\nstatus\\n• KPI: Number of counties with extended vaccination hours beyond routine business hours to meet the \\nneeds of the community/jurisdiction through the LHD or community partners\\nLCHD meets KPI\\n• Plans & Partnerships: \\n• LCHD to hire a PHN\\n• Indiana Immunization Coalition Partnership\\n• LCHD Mobile Clinic'),\n",
       " Document(metadata={'source': 'pdf_data_source_2/Health+First+Indiana+Presentation+071224.pdf', 'page': 14}, page_content='• KPI: Number of counties that initiated a public health investigation within 24 hours for 95% of the \\nimmediately reportable conditions reported to them and within two business days for 85% of non -\\nimmediately reportable conditions reported to them\\nLCHD meets KPI\\n• Plans & Partnerships: \\n• LCHD to implement STI/HIV Clinic (testing & treatment)\\n• LCHD plans to hire clinic coordinator (RN, LPN)\\n• The Aliveness Project potential partnership'),\n",
       " Document(metadata={'source': 'pdf_data_source_2/Health+First+Indiana+Presentation+071224.pdf', 'page': 15}, page_content='• KPI: Number of counties that have developed a timely and professional risk-based food \\ninspection standard operation procedure\\nLCHD meets KPI\\n• Plan:\\n• LCHD to hire two (2) food inspectors\\n• LCHD to provide pest control training to food inspectors (requested by inspectors)'),\n",
       " Document(metadata={'source': 'pdf_data_source_2/Health+First+Indiana+Presentation+071224.pdf', 'page': 16}, page_content='• KPI: Number of counties implementing birth certificates to all Hoosiers irrespective of \\ntheir county of birth once the IDOH DRIVE system has appropriate functionality\\n• KPI: Number of counties able to offer Vital Records services without disruption to \\nbusiness continuity during natural disasters/emergencies\\nLCHD does not currently meet KPI\\n• Plans & Partnerships: \\n• LCHD to partner/contract to convert old/historic files to drive'),\n",
       " Document(metadata={'source': 'pdf_data_source_2/Health+First+Indiana+Presentation+071224.pdf', 'page': 17}, page_content='Environmental Public Health\\n• KPI: Number of counties responding to all housing and nuisance complaints within a timeframe \\ndetermined by urgency or risk\\n• KPI: Number of counties with trained and licensed, if required, staff conducting required \\nenvironmental inspections, such as onsite sewage, vector control, public and semi -public pools, and \\nproperty-related complaints\\nLCHD meets KPI\\n• Plans & Partnerships: \\n• Digitize permits- currently seeking vendor/resource'),\n",
       " Document(metadata={'source': 'pdf_data_source_2/Health+First+Indiana+Presentation+071224.pdf', 'page': 18}, page_content='• KPI: Number of counties with trained staff who can respond to tattoo, body piercing, and eyelash \\nextension complaints (target: 90%)\\nLCHD does not meet KPI\\n• Plans & Partnerships: \\n• LCHD Sanitarians attended training offered by Porter Co. in June 2024\\n• Plan to provide education to establishments on health & safety')]"
      ]
     },
     "execution_count": 12,
     "metadata": {},
     "output_type": "execute_result"
    }
   ],
   "source": [
    "text_splitter = RecursiveCharacterTextSplitter(chunk_size=500, chunk_overlap=100)\n",
    "pdf_docs_split = text_splitter.split_documents(docs)\n",
    "pdf_docs_split"
   ]
  },
  {
   "cell_type": "code",
   "execution_count": 13,
   "metadata": {},
   "outputs": [
    {
     "name": "stderr",
     "output_type": "stream",
     "text": [
      "/var/folders/5s/6n___nd5225744331b0vg7140000gn/T/ipykernel_28914/368174091.py:1: LangChainDeprecationWarning: The class `ChatOllama` was deprecated in LangChain 0.3.1 and will be removed in 1.0.0. An updated version of the class exists in the :class:`~langchain-ollama package and should be used instead. To use it run `pip install -U :class:`~langchain-ollama` and import as `from :class:`~langchain_ollama import ChatOllama``.\n",
      "  llm = ChatOllama(model=\"llama3\")\n"
     ]
    }
   ],
   "source": [
    "llm = ChatOllama(model=\"llama3\")"
   ]
  },
  {
   "cell_type": "code",
   "execution_count": 17,
   "metadata": {},
   "outputs": [
    {
     "name": "stderr",
     "output_type": "stream",
     "text": [
      "/Users/druestaples/.pyenv/versions/3.11.9/envs/langchain_qa_chatbot_env_1/lib/python3.11/site-packages/langsmith/client.py:234: LangSmithMissingAPIKeyWarning: API key must be provided when using hosted LangSmith API\n",
      "  warnings.warn(\n"
     ]
    },
    {
     "data": {
      "text/plain": [
       "ChatPromptTemplate(input_variables=['agent_scratchpad', 'context', 'input'], input_types={}, partial_variables={}, messages=[HumanMessagePromptTemplate(prompt=PromptTemplate(input_variables=['agent_scratchpad', 'context', 'input'], input_types={}, partial_variables={}, template=' \\n            Answer the question or query to the best of your knowledge.\\n            Can you also make your answer rhyme if the result if more than six words. \\n            <context>\\n            {context}\\n            </context>\\n            ASP: {agent_scratchpad}\\n            Question: {input}\\n\\n            '), additional_kwargs={})])"
      ]
     },
     "execution_count": 17,
     "metadata": {},
     "output_type": "execute_result"
    }
   ],
   "source": [
    "# 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\n",
    "\n",
    "# prompt = hub.pull(api_key=\"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\", )\n",
    "prompt = hub.pull(\"hwchase17/openai-functions-agent\")\n",
    "from langchain.prompts import ChatPromptTemplate\n",
    "\n",
    "prompt2 = ChatPromptTemplate.from_template(\n",
    "    template=\"\"\" \n",
    "            Answer the question or query to the best of your knowledge.\n",
    "            Can you also make your answer rhyme if the result if more than six words. \n",
    "            <context>\n",
    "            {context}\n",
    "            </context>\n",
    "            ASP: {agent_scratchpad}\n",
    "            Question: {input}\n",
    "\n",
    "            \"\"\")\n",
    "prompt2"
   ]
  },
  {
   "cell_type": "code",
   "execution_count": 26,
   "metadata": {},
   "outputs": [],
   "source": [
    "# Create a docs tool instead of a chain\n",
    "# docs_chain = create_stuff_documents_chain(llm, prompt2)\n",
    "# docs_chain"
   ]
  },
  {
   "cell_type": "code",
   "execution_count": 22,
   "metadata": {},
   "outputs": [
    {
     "name": "stderr",
     "output_type": "stream",
     "text": [
      "/var/folders/5s/6n___nd5225744331b0vg7140000gn/T/ipykernel_28914/1477039597.py:1: LangChainDeprecationWarning: The class `OllamaEmbeddings` was deprecated in LangChain 0.3.1 and will be removed in 1.0.0. An updated version of the class exists in the :class:`~langchain-ollama package and should be used instead. To use it run `pip install -U :class:`~langchain-ollama` and import as `from :class:`~langchain_ollama import OllamaEmbeddings``.\n",
      "  db = FAISS.from_documents(pdf_docs_split, embedding=OllamaEmbeddings())\n"
     ]
    },
    {
     "data": {
      "text/plain": [
       "<langchain_community.vectorstores.faiss.FAISS at 0x127887e10>"
      ]
     },
     "execution_count": 22,
     "metadata": {},
     "output_type": "execute_result"
    }
   ],
   "source": [
    "db = FAISS.from_documents(pdf_docs_split, embedding=OllamaEmbeddings())\n",
    "db"
   ]
  },
  {
   "cell_type": "code",
   "execution_count": 23,
   "metadata": {},
   "outputs": [
    {
     "data": {
      "text/plain": [
       "VectorStoreRetriever(tags=['FAISS', 'OllamaEmbeddings'], vectorstore=<langchain_community.vectorstores.faiss.FAISS object at 0x127887e10>, search_kwargs={})"
      ]
     },
     "execution_count": 23,
     "metadata": {},
     "output_type": "execute_result"
    }
   ],
   "source": [
    "# Retriever interacts witht the vector store and sends data back to agent\n",
    "retriever = db.as_retriever()\n",
    "retriever"
   ]
  },
  {
   "cell_type": "code",
   "execution_count": 24,
   "metadata": {},
   "outputs": [],
   "source": [
    "# Docs tools\n",
    "retriever_tool = create_retriever_tool(\n",
    "    retriever=retriever,\n",
    "    name=\"Health First\",\n",
    "    description=\"tool for pdf files of Lake County Indiana's Health First Program\"\n",
    ")"
   ]
  },
  {
   "cell_type": "code",
   "execution_count": 25,
   "metadata": {},
   "outputs": [
    {
     "data": {
      "text/plain": [
       "[WikipediaQueryRun(api_wrapper=WikipediaAPIWrapper(wiki_client=<module 'wikipedia' from '/Users/druestaples/.pyenv/versions/3.11.9/envs/langchain_qa_chatbot_env_1/lib/python3.11/site-packages/wikipedia/__init__.py'>, top_k_results=1, lang='en', load_all_available_meta=False, doc_content_chars_max=150)),\n",
       " Tool(name='Health First', description=\"tool for pdf files of Lake County Indiana's Health First Program\", args_schema=<class 'langchain_core.tools.retriever.RetrieverInput'>, func=functools.partial(<function _get_relevant_documents at 0x121c43ec0>, retriever=VectorStoreRetriever(tags=['FAISS', 'OllamaEmbeddings'], vectorstore=<langchain_community.vectorstores.faiss.FAISS object at 0x127887e10>, search_kwargs={}), document_prompt=PromptTemplate(input_variables=['page_content'], input_types={}, partial_variables={}, template='{page_content}'), document_separator='\\n\\n'), coroutine=functools.partial(<function _aget_relevant_documents at 0x123cfede0>, retriever=VectorStoreRetriever(tags=['FAISS', 'OllamaEmbeddings'], vectorstore=<langchain_community.vectorstores.faiss.FAISS object at 0x127887e10>, search_kwargs={}), document_prompt=PromptTemplate(input_variables=['page_content'], input_types={}, partial_variables={}, template='{page_content}'), document_separator='\\n\\n'))]"
      ]
     },
     "execution_count": 25,
     "metadata": {},
     "output_type": "execute_result"
    }
   ],
   "source": [
    "tools = [wiki_tool, retriever_tool]\n",
    "tools"
   ]
  },
  {
   "cell_type": "code",
   "execution_count": 27,
   "metadata": {},
   "outputs": [
    {
     "data": {
      "text/plain": [
       "RunnableAssign(mapper={\n",
       "  agent_scratchpad: RunnableLambda(lambda x: format_to_openai_function_messages(x['intermediate_steps']))\n",
       "})\n",
       "| ChatPromptTemplate(input_variables=['agent_scratchpad', 'input'], optional_variables=['chat_history'], input_types={'chat_history': list[typing.Annotated[typing.Union[typing.Annotated[langchain_core.messages.ai.AIMessage, Tag(tag='ai')], typing.Annotated[langchain_core.messages.human.HumanMessage, Tag(tag='human')], typing.Annotated[langchain_core.messages.chat.ChatMessage, Tag(tag='chat')], typing.Annotated[langchain_core.messages.system.SystemMessage, Tag(tag='system')], typing.Annotated[langchain_core.messages.function.FunctionMessage, Tag(tag='function')], typing.Annotated[langchain_core.messages.tool.ToolMessage, Tag(tag='tool')], typing.Annotated[langchain_core.messages.ai.AIMessageChunk, Tag(tag='AIMessageChunk')], typing.Annotated[langchain_core.messages.human.HumanMessageChunk, Tag(tag='HumanMessageChunk')], typing.Annotated[langchain_core.messages.chat.ChatMessageChunk, Tag(tag='ChatMessageChunk')], typing.Annotated[langchain_core.messages.system.SystemMessageChunk, Tag(tag='SystemMessageChunk')], typing.Annotated[langchain_core.messages.function.FunctionMessageChunk, Tag(tag='FunctionMessageChunk')], typing.Annotated[langchain_core.messages.tool.ToolMessageChunk, Tag(tag='ToolMessageChunk')]], FieldInfo(annotation=NoneType, required=True, discriminator=Discriminator(discriminator=<function _get_type at 0x117adf240>, custom_error_type=None, custom_error_message=None, custom_error_context=None))]], 'agent_scratchpad': list[typing.Annotated[typing.Union[typing.Annotated[langchain_core.messages.ai.AIMessage, Tag(tag='ai')], typing.Annotated[langchain_core.messages.human.HumanMessage, Tag(tag='human')], typing.Annotated[langchain_core.messages.chat.ChatMessage, Tag(tag='chat')], typing.Annotated[langchain_core.messages.system.SystemMessage, Tag(tag='system')], typing.Annotated[langchain_core.messages.function.FunctionMessage, Tag(tag='function')], typing.Annotated[langchain_core.messages.tool.ToolMessage, Tag(tag='tool')], typing.Annotated[langchain_core.messages.ai.AIMessageChunk, Tag(tag='AIMessageChunk')], typing.Annotated[langchain_core.messages.human.HumanMessageChunk, Tag(tag='HumanMessageChunk')], typing.Annotated[langchain_core.messages.chat.ChatMessageChunk, Tag(tag='ChatMessageChunk')], typing.Annotated[langchain_core.messages.system.SystemMessageChunk, Tag(tag='SystemMessageChunk')], typing.Annotated[langchain_core.messages.function.FunctionMessageChunk, Tag(tag='FunctionMessageChunk')], typing.Annotated[langchain_core.messages.tool.ToolMessageChunk, Tag(tag='ToolMessageChunk')]], FieldInfo(annotation=NoneType, required=True, discriminator=Discriminator(discriminator=<function _get_type at 0x117adf240>, custom_error_type=None, custom_error_message=None, custom_error_context=None))]]}, partial_variables={'chat_history': []}, metadata={'lc_hub_owner': 'hwchase17', 'lc_hub_repo': 'openai-functions-agent', 'lc_hub_commit_hash': 'a1655024b06afbd95d17449f21316291e0726f13dcfaf990cc0d18087ad689a5'}, messages=[SystemMessagePromptTemplate(prompt=PromptTemplate(input_variables=[], input_types={}, partial_variables={}, template='You are a helpful assistant'), additional_kwargs={}), MessagesPlaceholder(variable_name='chat_history', optional=True), HumanMessagePromptTemplate(prompt=PromptTemplate(input_variables=['input'], input_types={}, partial_variables={}, template='{input}'), additional_kwargs={}), MessagesPlaceholder(variable_name='agent_scratchpad')])\n",
       "| RunnableBinding(bound=ChatOllama(model='llama3'), kwargs={'functions': [{'name': 'wikipedia', 'description': 'A wrapper around Wikipedia. Useful for when you need to answer general questions about people, places, companies, facts, historical events, or other subjects. Input should be a search query.', 'parameters': {'properties': {'query': {'description': 'query to look up on wikipedia', 'type': 'string'}}, 'required': ['query'], 'type': 'object'}}, {'name': 'Health First', 'description': \"tool for pdf files of Lake County Indiana's Health First Program\", 'parameters': {'properties': {'query': {'description': 'query to look up in retriever', 'type': 'string'}}, 'required': ['query'], 'type': 'object'}}]}, config={}, config_factories=[])\n",
       "| OpenAIFunctionsAgentOutputParser()"
      ]
     },
     "execution_count": 27,
     "metadata": {},
     "output_type": "execute_result"
    }
   ],
   "source": [
    "# Create Agent\n",
    "agent = create_openai_functions_agent(llm, tools, prompt)\n",
    "agent"
   ]
  },
  {
   "cell_type": "code",
   "execution_count": 30,
   "metadata": {},
   "outputs": [
    {
     "data": {
      "text/plain": [
       "AgentExecutor(verbose=False, agent=RunnableAgent(runnable=RunnableAssign(mapper={\n",
       "  agent_scratchpad: RunnableLambda(lambda x: format_to_openai_function_messages(x['intermediate_steps']))\n",
       "})\n",
       "| ChatPromptTemplate(input_variables=['agent_scratchpad', 'input'], optional_variables=['chat_history'], input_types={'chat_history': list[typing.Annotated[typing.Union[typing.Annotated[langchain_core.messages.ai.AIMessage, Tag(tag='ai')], typing.Annotated[langchain_core.messages.human.HumanMessage, Tag(tag='human')], typing.Annotated[langchain_core.messages.chat.ChatMessage, Tag(tag='chat')], typing.Annotated[langchain_core.messages.system.SystemMessage, Tag(tag='system')], typing.Annotated[langchain_core.messages.function.FunctionMessage, Tag(tag='function')], typing.Annotated[langchain_core.messages.tool.ToolMessage, Tag(tag='tool')], typing.Annotated[langchain_core.messages.ai.AIMessageChunk, Tag(tag='AIMessageChunk')], typing.Annotated[langchain_core.messages.human.HumanMessageChunk, Tag(tag='HumanMessageChunk')], typing.Annotated[langchain_core.messages.chat.ChatMessageChunk, Tag(tag='ChatMessageChunk')], typing.Annotated[langchain_core.messages.system.SystemMessageChunk, Tag(tag='SystemMessageChunk')], typing.Annotated[langchain_core.messages.function.FunctionMessageChunk, Tag(tag='FunctionMessageChunk')], typing.Annotated[langchain_core.messages.tool.ToolMessageChunk, Tag(tag='ToolMessageChunk')]], FieldInfo(annotation=NoneType, required=True, discriminator=Discriminator(discriminator=<function _get_type at 0x117adf240>, custom_error_type=None, custom_error_message=None, custom_error_context=None))]], 'agent_scratchpad': list[typing.Annotated[typing.Union[typing.Annotated[langchain_core.messages.ai.AIMessage, Tag(tag='ai')], typing.Annotated[langchain_core.messages.human.HumanMessage, Tag(tag='human')], typing.Annotated[langchain_core.messages.chat.ChatMessage, Tag(tag='chat')], typing.Annotated[langchain_core.messages.system.SystemMessage, Tag(tag='system')], typing.Annotated[langchain_core.messages.function.FunctionMessage, Tag(tag='function')], typing.Annotated[langchain_core.messages.tool.ToolMessage, Tag(tag='tool')], typing.Annotated[langchain_core.messages.ai.AIMessageChunk, Tag(tag='AIMessageChunk')], typing.Annotated[langchain_core.messages.human.HumanMessageChunk, Tag(tag='HumanMessageChunk')], typing.Annotated[langchain_core.messages.chat.ChatMessageChunk, Tag(tag='ChatMessageChunk')], typing.Annotated[langchain_core.messages.system.SystemMessageChunk, Tag(tag='SystemMessageChunk')], typing.Annotated[langchain_core.messages.function.FunctionMessageChunk, Tag(tag='FunctionMessageChunk')], typing.Annotated[langchain_core.messages.tool.ToolMessageChunk, Tag(tag='ToolMessageChunk')]], FieldInfo(annotation=NoneType, required=True, discriminator=Discriminator(discriminator=<function _get_type at 0x117adf240>, custom_error_type=None, custom_error_message=None, custom_error_context=None))]]}, partial_variables={'chat_history': []}, metadata={'lc_hub_owner': 'hwchase17', 'lc_hub_repo': 'openai-functions-agent', 'lc_hub_commit_hash': 'a1655024b06afbd95d17449f21316291e0726f13dcfaf990cc0d18087ad689a5'}, messages=[SystemMessagePromptTemplate(prompt=PromptTemplate(input_variables=[], input_types={}, partial_variables={}, template='You are a helpful assistant'), additional_kwargs={}), MessagesPlaceholder(variable_name='chat_history', optional=True), HumanMessagePromptTemplate(prompt=PromptTemplate(input_variables=['input'], input_types={}, partial_variables={}, template='{input}'), additional_kwargs={}), MessagesPlaceholder(variable_name='agent_scratchpad')])\n",
       "| RunnableBinding(bound=ChatOllama(model='llama3'), kwargs={'functions': [{'name': 'wikipedia', 'description': 'A wrapper around Wikipedia. Useful for when you need to answer general questions about people, places, companies, facts, historical events, or other subjects. Input should be a search query.', 'parameters': {'properties': {'query': {'description': 'query to look up on wikipedia', 'type': 'string'}}, 'required': ['query'], 'type': 'object'}}, {'name': 'Health First', 'description': \"tool for pdf files of Lake County Indiana's Health First Program\", 'parameters': {'properties': {'query': {'description': 'query to look up in retriever', 'type': 'string'}}, 'required': ['query'], 'type': 'object'}}]}, config={}, config_factories=[])\n",
       "| OpenAIFunctionsAgentOutputParser(), input_keys_arg=[], return_keys_arg=[], stream_runnable=True), tools=[WikipediaQueryRun(api_wrapper=WikipediaAPIWrapper(wiki_client=<module 'wikipedia' from '/Users/druestaples/.pyenv/versions/3.11.9/envs/langchain_qa_chatbot_env_1/lib/python3.11/site-packages/wikipedia/__init__.py'>, top_k_results=1, lang='en', load_all_available_meta=False, doc_content_chars_max=150)), Tool(name='Health First', description=\"tool for pdf files of Lake County Indiana's Health First Program\", args_schema=<class 'langchain_core.tools.retriever.RetrieverInput'>, func=functools.partial(<function _get_relevant_documents at 0x121c43ec0>, retriever=VectorStoreRetriever(tags=['FAISS', 'OllamaEmbeddings'], vectorstore=<langchain_community.vectorstores.faiss.FAISS object at 0x127887e10>, search_kwargs={}), document_prompt=PromptTemplate(input_variables=['page_content'], input_types={}, partial_variables={}, template='{page_content}'), document_separator='\\n\\n'), coroutine=functools.partial(<function _aget_relevant_documents at 0x123cfede0>, retriever=VectorStoreRetriever(tags=['FAISS', 'OllamaEmbeddings'], vectorstore=<langchain_community.vectorstores.faiss.FAISS object at 0x127887e10>, search_kwargs={}), document_prompt=PromptTemplate(input_variables=['page_content'], input_types={}, partial_variables={}, template='{page_content}'), document_separator='\\n\\n'))])"
      ]
     },
     "execution_count": 30,
     "metadata": {},
     "output_type": "execute_result"
    }
   ],
   "source": [
    "# Allow agent to be invoked\n",
    "agent_executor = AgentExecutor(agent=agent, tools=tools)\n",
    "agent_executor"
   ]
  },
  {
   "cell_type": "code",
   "execution_count": 31,
   "metadata": {},
   "outputs": [
    {
     "data": {
      "text/plain": [
       "{'input': 'What is Health First Indiana?',\n",
       " 'output': 'HealthFirst Indiana (HFI) is a non-profit organization that aims to improve the health and well-being of individuals and communities in Indiana. They provide a range of services, including:\\n\\n1. Medicaid managed care: HFI operates Medicaid managed care programs for low-income Hoosiers, which means they coordinate healthcare services for members, ensuring they receive necessary medical attention while keeping costs under control.\\n2. Behavioral health services: HFI offers mental health and substance abuse treatment to individuals and families, helping them overcome challenges like addiction, depression, anxiety, and other behavioral health issues.\\n3. Case management: Their case managers work with individuals who have complex healthcare needs, providing guidance on navigating the healthcare system, accessing resources, and achieving their wellness goals.\\n4. Community outreach and education: HFI engages in community-based initiatives to promote health awareness, disease prevention, and healthy lifestyles through workshops, seminars, and educational materials.\\n\\nBy focusing on Medicaid managed care, behavioral health services, case management, and community outreach, HealthFirst Indiana strives to make a positive impact on the lives of Hoosiers and help them achieve better overall health.'}"
      ]
     },
     "execution_count": 31,
     "metadata": {},
     "output_type": "execute_result"
    }
   ],
   "source": [
    "response = agent_executor.invoke({\"input\": \"What is Health First Indiana?\"})\n",
    "response"
   ]
  },
  {
   "cell_type": "code",
   "execution_count": 32,
   "metadata": {},
   "outputs": [
    {
     "data": {
      "text/plain": [
       "{'input': 'What is a KPI and how many of them are there?',\n",
       " 'output': \"A Key Performance Indicator (KPI) is a measurable value that demonstrates how effectively an organization or individual is achieving its goals. KPIs are used to evaluate performance, track progress, and make data-driven decisions.\\n\\nThe number of KPIs can vary greatly depending on the organization, industry, and specific goals. There is no one-size-fits-all answer to the number of KPIs, as it depends on the complexity of the organization and its objectives.\\n\\nThat being said, here are some general guidelines:\\n\\n1. For a small business or startup: 5-10 KPIs\\nThese might include metrics such as revenue growth, customer acquisition rate, website traffic, social media engagement, and employee satisfaction.\\n2. For a medium-sized business: 10-20 KPIs\\nAdditional metrics might include product development time, sales conversion rates, inventory turnover, and marketing ROI.\\n3. For a large corporation or enterprise: 20-50 KPIs\\nKPIs may cover various departments, such as finance (e.g., accounts receivable, payable days), operations (e.g., production efficiency, supply chain reliability), human resources (e.g., employee retention, diversity and inclusion metrics), and marketing (e.g., lead generation, customer satisfaction).\\n\\nSome common KPI examples across industries include:\\n\\n1. Sales performance:\\n\\t* Revenue growth\\n\\t* Sales conversion rates\\n\\t* Average order value (AOV)\\n2. Customer experience:\\n\\t* Net promoter score (NPS)\\n\\t* Customer satisfaction (CSAT) ratings\\n\\t* Retention rate\\n3. Operational efficiency:\\n\\t* Production volume and capacity utilization\\n\\t* Inventory turnover\\n\\t* Supply chain reliability\\n4. Financial performance:\\n\\t* Return on investment (ROI)\\n\\t* Return on equity (ROE)\\n\\t* Earnings before interest, taxes, depreciation, and amortization (EBITDA)\\n5. Digital presence:\\n\\t* Website traffic\\n\\t* Social media engagement (e.g., likes, shares, comments)\\n\\t* Search engine optimization (SEO) rankings\\n\\nRemember, the key to effective KPIs is to:\\n\\n1. Set clear goals and objectives\\n2. Establish measurable targets\\n3. Track progress regularly\\n4. Use data to inform decision-making\\n5. Continuously refine and adjust KPIs as needed\\n\\nKeep in mind that the specific KPIs you choose will depend on your organization's unique goals, industry, and circumstances.\"}"
      ]
     },
     "execution_count": 32,
     "metadata": {},
     "output_type": "execute_result"
    }
   ],
   "source": [
    "response2 = agent_executor.invoke({\"input\": \"What is a KPI and how many of them are there?\"})\n",
    "response2"
   ]
  },
  {
   "cell_type": "code",
   "execution_count": 33,
   "metadata": {},
   "outputs": [
    {
     "data": {
      "text/plain": [
       "{'input': \"What KPI's were mentioned in Health First Indiana?\",\n",
       " 'output': \"According to the case study on Health First Indiana, some of the key performance indicators (KPIs) mentioned include:\\n\\n1. Patient Engagement: Measuring patients' participation in their care through metrics such as appointment attendance rates and patient activation scores.\\n2. Readmissions: Tracking hospital readmission rates to identify areas for improvement and reduce unnecessary rehospitalizations.\\n3. Cost per Member: Monitoring the total healthcare costs for each member to ensure that Health First Indiana is providing high-quality care at a reasonable cost.\\n4. Quality of Care: Measuring clinical quality through metrics such as HbA1c levels, blood pressure control, and cholesterol management for patients with diabetes or hypertension.\\n5. Patient Satisfaction: Tracking patient satisfaction rates through surveys and feedback forms to ensure that members are receiving the care they need and expect.\\n6. Access to Care: Monitoring access to care through metrics such as wait times, appointment availability, and provider participation.\\n\\nThese KPIs provide a framework for evaluating Health First Indiana's performance and making data-driven decisions to improve patient outcomes and reduce costs.\"}"
      ]
     },
     "execution_count": 33,
     "metadata": {},
     "output_type": "execute_result"
    }
   ],
   "source": [
    "response3 = agent_executor.invoke({\"input\": \"What KPI's were mentioned in Health First Indiana?\"})\n",
    "response3"
   ]
  },
  {
   "cell_type": "code",
   "execution_count": 36,
   "metadata": {},
   "outputs": [
    {
     "data": {
      "text/plain": [
       "{'input': 'what are rates for adult obesity in Lake County and Indiana according the the Health First Indiana file?',\n",
       " 'output': \"According to the Health First Indiana File, which provides data on health indicators across different regions of Indiana, including Lake County, here are the rates for adult obesity:\\n\\n**Lake County:**\\n\\n* Adult obesity rate (2019-2020): 34.4%\\n\\t+ Male obesity rate: 37.3%\\n\\t+ Female obesity rate: 31.6%\\n\\n**Indiana State:**\\n\\n* Adult obesity rate (2019-2020): 35.5%\\n\\t+ Male obesity rate: 38.2%\\n\\t+ Female obesity rate: 32.8%\\n\\nPlease note that these rates are based on data from the Centers for Disease Control and Prevention's (CDC) Behavioral Risk Factor Surveillance System (BRFSS). The BRFSS is a continuous, random-digit-dialed telephone survey of adults aged 18 years and older.\\n\\nIt's worth mentioning that Lake County has a slightly lower obesity rate compared to the state average. However, both rates are above the national average for adult obesity, which was reported as 31.1% in 2019-2020 by the CDC.\\n\\nI hope this information is helpful!\"}"
      ]
     },
     "execution_count": 36,
     "metadata": {},
     "output_type": "execute_result"
    }
   ],
   "source": [
    "response4 = agent_executor.invoke({\"input\": \"what are rates for adult obesity in Lake County and Indiana according the the Health First Indiana file?\"})\n",
    "response4"
   ]
  },
  {
   "cell_type": "code",
   "execution_count": null,
   "metadata": {},
   "outputs": [],
   "source": []
  }
 ],
 "metadata": {
  "kernelspec": {
   "display_name": "langchain_qa_chatbot_env_1",
   "language": "python",
   "name": "python3"
  },
  "language_info": {
   "codemirror_mode": {
    "name": "ipython",
    "version": 3
   },
   "file_extension": ".py",
   "mimetype": "text/x-python",
   "name": "python",
   "nbconvert_exporter": "python",
   "pygments_lexer": "ipython3",
   "version": "3.11.9"
  },
  "orig_nbformat": 4
 },
 "nbformat": 4,
 "nbformat_minor": 2
}
